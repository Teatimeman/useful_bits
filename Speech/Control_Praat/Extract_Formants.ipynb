{
 "cells": [
  {
   "cell_type": "markdown",
   "metadata": {},
   "source": [
    "# Extract formant frequencies (F1, F2) using Python\n",
    "<br>\n",
    "- tested: Python3.6 on Linux and Mac\n",
    "- 2017-09-01 jk\n",
    "\n",
    "<br>\n",
    "\n",
    "* References:\n",
    "    - https://github.com/mwv/praat_formants_python (modified and adapted for Python3.6)\n",
    "\n",
    "<br>\n",
    "\n",
    "* Logic:\n",
    "    - 1) Generate Praat script temporarily within Python script\n",
    "    - 2) Run the Praat script through Python"
   ]
  },
  {
   "cell_type": "markdown",
   "metadata": {},
   "source": [
    "## Settings"
   ]
  },
  {
   "cell_type": "code",
   "execution_count": 1,
   "metadata": {
    "collapsed": true
   },
   "outputs": [],
   "source": [
    "import os\n",
    "import numpy as np\n",
    "from subprocess import Popen, PIPE\n",
    "from bisect import bisect_left"
   ]
  },
  {
   "cell_type": "markdown",
   "metadata": {},
   "source": [
    "## Main functions"
   ]
  },
  {
   "cell_type": "code",
   "execution_count": 2,
   "metadata": {
    "collapsed": true
   },
   "outputs": [],
   "source": [
    "tmp_script = 'tmp.praat'\n",
    "def gen_script():\n",
    "    # This generates temporary praat script file\n",
    "    global tmp_script\n",
    "    with open(tmp_script, 'w') as f:\n",
    "        f.write('''\n",
    "form extract_formant\n",
    "text FILENAME\n",
    "positive MAXFORMANT 5500\n",
    "real WINLEN 0.025\n",
    "positive PREEMPH 50\n",
    "endform\n",
    "Read from file... 'FILENAME$'\n",
    "To Formant (burg)... 0.01 5 'MAXFORMANT' 'WINLEN' 'PREEMPH'\n",
    "List... no yes 6 no 3 no 3 no\n",
    "exit\n",
    "''')\n",
    "    return tmp_script\n",
    "        \n",
    "def run_praat_cmd(*args):\n",
    "    o = Popen(['praat'] + [str(i) for i in args],\n",
    "             shell=False, stdout=PIPE, stderr=PIPE)\n",
    "    stdout, stderr = o.communicate()\n",
    "#     if os.path.exists(tmp_script): \n",
    "#         os.remove(tmp_script)\n",
    "    if o.returncode:\n",
    "        raise Exception(stderr.decode('utf-8'))\n",
    "    else:\n",
    "        return stdout\n",
    "        \n",
    "def get_formant(FNAME, time, MAXFORMANT=5500, WINLEN=0.025, PREEMPH=50):\n",
    "    fmt_out = {}\n",
    "    def _float(s):\n",
    "        # Retrieved from https://github.com/mwv/praat_formants_python\n",
    "        try:\n",
    "            return float(s)\n",
    "        except ValueError:\n",
    "            return np.nan\n",
    "    key = (FNAME, MAXFORMANT, WINLEN, PREEMPH)\n",
    "    run_out = run_praat_cmd(gen_script(), FNAME, MAXFORMANT, WINLEN, PREEMPH)\n",
    "    fmt_out[key] = np.array(list(map(lambda x: list(map(_float, x.rstrip().split('\\t')[:4])), \n",
    "                                     run_out.decode('utf-8').split('\\n')[1:-1])))\n",
    "    out = fmt_out[key]\n",
    "    val = out[bisect_left(out[:,0], time), 1:]\n",
    "    if np.any(np.isnan(val)):\n",
    "        print('formant UNDEFINED found')\n",
    "    return val"
   ]
  },
  {
   "cell_type": "markdown",
   "metadata": {},
   "source": [
    "## Run"
   ]
  },
  {
   "cell_type": "code",
   "execution_count": 4,
   "metadata": {},
   "outputs": [
    {
     "data": {
      "text/plain": [
       "array([  688.922,  1116.888,  2542.079])"
      ]
     },
     "execution_count": 4,
     "metadata": {},
     "output_type": "execute_result"
    }
   ],
   "source": [
    "time = 0.5 # sec\n",
    "get_formant('da_ta.wav', time) # output: F1, F2, F3"
   ]
  }
 ],
 "metadata": {
  "kernelspec": {
   "display_name": "Python 3",
   "language": "python",
   "name": "python3"
  },
  "language_info": {
   "codemirror_mode": {
    "name": "ipython",
    "version": 3
   },
   "file_extension": ".py",
   "mimetype": "text/x-python",
   "name": "python",
   "nbconvert_exporter": "python",
   "pygments_lexer": "ipython3",
   "version": "3.6.1"
  }
 },
 "nbformat": 4,
 "nbformat_minor": 2
}
