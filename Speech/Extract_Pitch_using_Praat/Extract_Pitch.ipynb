{
 "cells": [
  {
   "cell_type": "markdown",
   "metadata": {},
   "source": [
    "# Extract fundamental frequency (F0 or pitch) using Python\n",
    "<br>\n",
    "- tested: Python3.6 on Linux and Mac\n",
    "- 2017-09-24 jk\n",
    "\n",
    "* Logic:\n",
    "    - 1) Generate Praat script temporarily within Python script\n",
    "    - 2) Run the Praat script through Python"
   ]
  },
  {
   "cell_type": "markdown",
   "metadata": {},
   "source": [
    "## Settings"
   ]
  },
  {
   "cell_type": "code",
   "execution_count": 1,
   "metadata": {
    "collapsed": true
   },
   "outputs": [],
   "source": [
    "import os\n",
    "import numpy as np\n",
    "from subprocess import Popen, PIPE\n",
    "from sys import platform\n",
    "import pdb"
   ]
  },
  {
   "cell_type": "markdown",
   "metadata": {},
   "source": [
    "## Main functions"
   ]
  },
  {
   "cell_type": "code",
   "execution_count": 2,
   "metadata": {
    "collapsed": true
   },
   "outputs": [],
   "source": [
    "tmp_script = 'tmp.praat'\n",
    "def gen_script():\n",
    "    # This generates temporary praat script file\n",
    "    global tmp_script\n",
    "    with open(tmp_script, 'w') as f:\n",
    "        f.write('''\n",
    "form extract_pitch\n",
    "text FILENAME\n",
    "positive TIMEAT 0.0\n",
    "positive TIMESTEP 0.0\n",
    "real FLOOR 75.0\n",
    "real CEILING 600.0\n",
    "endform\n",
    "Read from file... 'FILENAME$'\n",
    "To Pitch... 'TIMESTEP' 'FLOOR' 'CEILING'\n",
    "Get value at time... 'TIMEAT' Hertz Linear\n",
    "exit\n",
    "''')\n",
    "    return tmp_script\n",
    "        \n",
    "def run_praat_cmd(*args):\n",
    "    # Check operating system\n",
    "    if platform == 'darwin':  # macOS\n",
    "        o = Popen(['praat'] + [str(i) for i in args],\n",
    "                  shell=False, stdout=PIPE, stderr=PIPE)\n",
    "    else:  # Linux\n",
    "        o = Popen(['praat', '--run'] + [str(i) for i in args],\n",
    "                  shell=False, stdout=PIPE, stderr=PIPE)\n",
    "    stdout, stderr = o.communicate()\n",
    "    if os.path.exists(tmp_script): \n",
    "        os.remove(tmp_script)\n",
    "    if o.returncode:\n",
    "        raise Exception(stderr.decode('utf-8'))\n",
    "    else:\n",
    "        return stdout\n",
    "        \n",
    "def get_pitch(FNAME, TIMEAT, TIMESTEP=0.0, FLOOR=75.0, CEILING=600.0):\n",
    "    fmt_out = {}\n",
    "    def _float(s):\n",
    "        # Retrieved from https://github.com/mwv/praat_formants_python\n",
    "        try:\n",
    "            return float(s)\n",
    "        except ValueError:\n",
    "            return np.nan\n",
    "    key = (FNAME, TIMEAT, TIMESTEP, FLOOR, CEILING)\n",
    "    out = run_praat_cmd(gen_script(), FNAME, TIMEAT, TIMESTEP, FLOOR, CEILING)\n",
    "    outstr = str(out, 'utf-8').split()\n",
    "    if len(outstr) < 2:\n",
    "        print('--undefined--')\n",
    "        val = 0.0 # pad nan as 0\n",
    "    else:\n",
    "        val = float('{:.3f}'.format(float(outstr[0])))\n",
    "    return val"
   ]
  },
  {
   "cell_type": "markdown",
   "metadata": {},
   "source": [
    "## Run"
   ]
  },
  {
   "cell_type": "code",
   "execution_count": 3,
   "metadata": {},
   "outputs": [
    {
     "data": {
      "text/plain": [
       "118.177"
      ]
     },
     "execution_count": 3,
     "metadata": {},
     "output_type": "execute_result"
    }
   ],
   "source": [
    "time = 0.5 # sec\n",
    "get_pitch('da_ta.wav', time) # output: F0"
   ]
  }
 ],
 "metadata": {
  "kernelspec": {
   "display_name": "Python 3",
   "language": "python",
   "name": "python3"
  },
  "language_info": {
   "codemirror_mode": {
    "name": "ipython",
    "version": 3
   },
   "file_extension": ".py",
   "mimetype": "text/x-python",
   "name": "python",
   "nbconvert_exporter": "python",
   "pygments_lexer": "ipython3",
   "version": "3.6.1"
  }
 },
 "nbformat": 4,
 "nbformat_minor": 2
}
