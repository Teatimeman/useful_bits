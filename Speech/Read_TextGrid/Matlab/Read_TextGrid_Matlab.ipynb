{
 "cells": [
  {
   "cell_type": "markdown",
   "metadata": {},
   "source": [
    "# Read Praat TextGrid files on Matlab"
   ]
  },
  {
   "cell_type": "code",
   "execution_count": 1,
   "metadata": {
    "collapsed": true
   },
   "outputs": [],
   "source": [
    "% Change the directory\n",
    "cd '~/GoogleDrive/Github/useful_bits/Speech/Read_TextGrid/Matlab'"
   ]
  },
  {
   "cell_type": "code",
   "execution_count": 2,
   "metadata": {
    "collapsed": true
   },
   "outputs": [],
   "source": [
    "% Read 'word' tier from TextGrid\n",
    "[wd_seg,wd_lab] = ReadPraatTier('fv01_t01_s01.TextGrid','word');"
   ]
  },
  {
   "cell_type": "code",
   "execution_count": 3,
   "metadata": {},
   "outputs": [
    {
     "name": "stdout",
     "output_type": "stream",
     "text": [
      "wd_seg =\n",
      "                   0   2.100000000000000\n",
      "   2.100000000000000   2.560000000000000\n",
      "   2.560000000000000   2.980000000000000\n",
      "   2.980000000000000   3.990000000000000\n",
      "   3.990000000000000   4.930000000000000\n"
     ]
    }
   ],
   "source": [
    "wd_seg"
   ]
  },
  {
   "cell_type": "code",
   "execution_count": 4,
   "metadata": {},
   "outputs": [
    {
     "name": "stdout",
     "output_type": "stream",
     "text": [
      "wd_lab =\n",
      "  5�1 cell array\n",
      "    'sil'\n",
      "    'k0ii-chaa-t0oo'\n",
      "    'c0vvnf-k0ii-t0oo'\n",
      "    'vvps-vvss-t0aa'\n",
      "    'sil'\n"
     ]
    }
   ],
   "source": [
    "wd_lab"
   ]
  },
  {
   "cell_type": "code",
   "execution_count": 5,
   "metadata": {
    "collapsed": true
   },
   "outputs": [],
   "source": [
    "% Read 'phoneme' tier from TextGrid\n",
    "[ph_seg,ph_labs] = ReadPraatTier('fv01_t01_s01.TextGrid','phoneme');"
   ]
  },
  {
   "cell_type": "code",
   "execution_count": 6,
   "metadata": {},
   "outputs": [
    {
     "name": "stdout",
     "output_type": "stream",
     "text": [
      "ph_seg =\n",
      "                   0   2.100000000000000\n",
      "   2.100000000000000   2.130000000000000\n",
      "   2.130000000000000   2.210000000000000\n",
      "   2.210000000000000   2.320000000000000\n",
      "   2.320000000000000   2.420000000000000\n",
      "   2.420000000000000   2.470000000000000\n",
      "   2.470000000000000   2.560000000000000\n",
      "   2.560000000000000   2.640000000000000\n",
      "   2.640000000000000   2.720000000000000\n",
      "   2.720000000000000   2.800000000000000\n",
      "   2.800000000000000   2.830000000000000\n",
      "   2.830000000000000   2.880000000000000\n",
      "   2.880000000000000   2.940000000000000\n",
      "   2.940000000000000   2.980000000000000\n",
      "   2.980000000000000   3.010000000000000\n",
      "   3.010000000000000   3.110000000000000\n",
      "   3.110000000000000   3.210000000000000\n",
      "   3.210000000000000   3.270000000000000\n",
      "   3.270000000000000   3.420000000000000\n",
      "   3.420000000000000   3.940000000000000\n",
      "   3.940000000000000   3.990000000000000\n",
      "   3.990000000000000   4.930000000000000\n"
     ]
    }
   ],
   "source": [
    "ph_seg"
   ]
  },
  {
   "cell_type": "code",
   "execution_count": 7,
   "metadata": {},
   "outputs": [
    {
     "name": "stdout",
     "output_type": "stream",
     "text": [
      "ph_labs =\n",
      "  22�1 cell array\n",
      "    'sil'\n",
      "    'k0'\n",
      "    'ii'\n",
      "    'ch'\n",
      "    'aa'\n",
      "    't0'\n",
      "    'oo'\n",
      "    'c0'\n",
      "    'vv'\n",
      "    'nf'\n",
      "    'k0'\n",
      "    'ii'\n",
      "    't0'\n",
      "    'oo'\n",
      "    'vv'\n",
      "    'pf'\n",
      "    'ss'\n",
      "    'vv'\n",
      "    'tf'\n",
      "    'tt'\n",
      "    'aa'\n",
      "    'sil'\n"
     ]
    }
   ],
   "source": [
    "ph_labs"
   ]
  }
 ],
 "metadata": {
  "kernelspec": {
   "display_name": "Matlab",
   "language": "matlab",
   "name": "matlab"
  },
  "language_info": {
   "codemirror_mode": "octave",
   "file_extension": ".m",
   "help_links": [
    {
     "text": "MetaKernel Magics",
     "url": "https://github.com/calysto/metakernel/blob/master/metakernel/magics/README.md"
    }
   ],
   "mimetype": "text/x-matlab",
   "name": "matlab",
   "version": "0.14.3"
  }
 },
 "nbformat": 4,
 "nbformat_minor": 2
}
