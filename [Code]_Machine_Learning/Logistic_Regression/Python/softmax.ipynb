{
 "cells": [
  {
   "cell_type": "code",
   "execution_count": 33,
   "metadata": {
    "collapsed": false
   },
   "outputs": [
    {
     "name": "stdout",
     "output_type": "stream",
     "text": [
      "[[ 0.47740058  0.24317312  0.2794263 ]\n",
      " [ 0.22449371  0.32579308  0.44971321]\n",
      " [ 0.32122782  0.26051267  0.41825951]\n",
      " [ 0.20824966  0.47083396  0.32091638]\n",
      " [ 0.40125497  0.3779354   0.22080962]\n",
      " [ 0.34084004  0.33460656  0.32455339]\n",
      " [ 0.24321022  0.29527108  0.46151869]\n",
      " [ 0.23383066  0.3185628   0.44760654]\n",
      " [ 0.4192344   0.25025445  0.33051115]\n",
      " [ 0.31821301  0.34949982  0.33228717]]\n"
     ]
    }
   ],
   "source": [
    "# softmax function\n",
    "# 2017-03-30 jkang\n",
    "# ref: Machine Learning by Andrew Ng on Corsera\n",
    "import numpy as np\n",
    "\n",
    "'''\n",
    "e.g.\n",
    "In classification task,\n",
    "z = W*x + b\n",
    "x shape: (example) x (feature)\n",
    "'''\n",
    "\n",
    "def softmax(x):\n",
    "    rowmax = np.max(x, axis=1)\n",
    "    x -= rowmax.reshape((x.shape[0] ,1)) # for numerical stability\n",
    "    x = np.exp(x)\n",
    "    sum_x = np.sum(x, axis=1).reshape((x.shape[0],1))\n",
    "    return x / sum_x\n",
    "\n",
    "z = np.random.random((10,3)) # (10 examples) x (3 features)\n",
    "pred = softmax(z)\n",
    "print(pred)"
   ]
  }
 ],
 "metadata": {
  "kernelspec": {
   "display_name": "Python 3",
   "language": "python",
   "name": "python3"
  },
  "language_info": {
   "codemirror_mode": {
    "name": "ipython",
    "version": 3
   },
   "file_extension": ".py",
   "mimetype": "text/x-python",
   "name": "python",
   "nbconvert_exporter": "python",
   "pygments_lexer": "ipython3",
   "version": "3.5.2"
  }
 },
 "nbformat": 4,
 "nbformat_minor": 2
}
