{
 "cells": [
  {
   "cell_type": "code",
   "execution_count": 1,
   "metadata": {
    "collapsed": true
   },
   "outputs": [],
   "source": [
    "# Simple RNN-LSTM regression\n",
    "# 2017-03-16 jkang\n",
    "# Python3.5\n",
    "# Tensorflow1.0.1\n",
    "#\n",
    "# input: one sinewave\n",
    "# output: one sinewave\n",
    "\n",
    "import tensorflow as tf\n",
    "import numpy as np\n",
    "import matplotlib.pyplot as plt"
   ]
  },
  {
   "cell_type": "code",
   "execution_count": 2,
   "metadata": {
    "collapsed": false
   },
   "outputs": [],
   "source": [
    "# Input, Ouput dataset\n",
    "duration = 10  # sec\n",
    "srate = 10  # Hz\n",
    "freq = .5  # Hz\n",
    "amplitude = np.random.random(1) * 10\n",
    "t = np.linspace(0, duration, duration * srate + 1)\n",
    "sin = np.sin(2 * np.pi * freq * t) * amplitude\n",
    "shift = int(srate/freq*1/4) # samples shifted for orthogonally align the output with the input\n",
    "sin_in = sin[:-shift]\n",
    "sin_out = sin[shift:]  # shifting\n",
    "\n",
    "# Hyper-Parameters\n",
    "learning_rate = 0.01\n",
    "max_iter = 100\n",
    "\n",
    "# Network Parameters\n",
    "n_input_dim = 1\n",
    "n_input_len = len(sin_in)\n",
    "n_output_len = len(sin_out)\n",
    "n_hidden = 50\n",
    "n_output_dim = 1\n",
    "\n",
    "# TensorFlow graph\n",
    "# (batch_size) x (time_step) x (input_dimension)\n",
    "x = tf.placeholder(tf.float32, [1, n_input_len, n_input_dim])\n",
    "# (batch_size) x (time_step) x (output_dimension)\n",
    "y = tf.placeholder(tf.float32, [1, n_output_len, n_output_dim])\n",
    "\n",
    "# Parameters\n",
    "weights = {\n",
    "    'out': tf.Variable(tf.random_normal([n_hidden, n_output_dim]))\n",
    "}\n",
    "biases = {\n",
    "    'out': tf.Variable(tf.random_normal([n_output_dim]))\n",
    "}"
   ]
  },
  {
   "cell_type": "code",
   "execution_count": 3,
   "metadata": {
    "collapsed": false
   },
   "outputs": [],
   "source": [
    "def RNN(inputs, weights, biases):\n",
    "    # Reshape to (time_step) x (batch_size) x (input_dimension)\n",
    "    inputs = tf.transpose(inputs, [1, 0, 2])\n",
    "    # Reshape to (time_step)*(batch_size) x (input_dimension)\n",
    "    inputs = tf.reshape(inputs, [-1, n_input_dim])\n",
    "    # Split to get a list of time_step tensors of shape (batch_size, input_dimension)\n",
    "    # final 'inputs' is a list of n_input_len elements (=number of frames)\n",
    "    inputs = tf.split(value=inputs, num_or_size_splits=n_input_len, axis=0)\n",
    "\n",
    "    lstm = tf.contrib.rnn.BasicLSTMCell(n_hidden, forget_bias=1.0)\n",
    "    outputs, states = tf.nn.dynamic_rnn(lstm, x, dtype=tf.float32)\n",
    "#     rnn = tf.contrib.rnn.BasicRNNCell(n_hidden)    \n",
    "#     outputs, states = tf.nn.dynamic_rnn(rnn, x, dtype=tf.float32)\n",
    "    return tf.matmul(outputs[-1], weights['out']) + biases['out']\n",
    "\n",
    "pred = RNN(x, weights, biases)\n",
    "cost = tf.reduce_mean(tf.squared_difference(pred, y))\n",
    "optimizer = tf.train.AdamOptimizer(learning_rate=learning_rate).minimize(cost)"
   ]
  },
  {
   "cell_type": "code",
   "execution_count": 4,
   "metadata": {
    "collapsed": false
   },
   "outputs": [
    {
     "name": "stdout",
     "output_type": "stream",
     "text": [
      "Epoch = 1 / 100 Cost =  48.36175\n",
      "Epoch = 2 / 100 Cost =  19.38160\n",
      "Epoch = 3 / 100 Cost =  7.28115\n",
      "Epoch = 4 / 100 Cost =  5.70894\n",
      "Epoch = 5 / 100 Cost =  6.87840\n",
      "Epoch = 6 / 100 Cost =  8.38422\n",
      "Epoch = 7 / 100 Cost =  8.02394\n",
      "Epoch = 8 / 100 Cost =  6.60645\n",
      "Epoch = 9 / 100 Cost =  5.58471\n",
      "Epoch = 10 / 100 Cost =  4.93119\n",
      "Epoch = 11 / 100 Cost =  4.68618\n",
      "Epoch = 12 / 100 Cost =  4.97875\n",
      "Epoch = 13 / 100 Cost =  5.27580\n",
      "Epoch = 14 / 100 Cost =  5.15504\n",
      "Epoch = 15 / 100 Cost =  4.83380\n",
      "Epoch = 16 / 100 Cost =  4.46961\n",
      "Epoch = 17 / 100 Cost =  4.03654\n",
      "Epoch = 18 / 100 Cost =  3.64613\n",
      "Epoch = 19 / 100 Cost =  3.49224\n",
      "Epoch = 20 / 100 Cost =  3.48541\n",
      "Epoch = 21 / 100 Cost =  3.42250\n",
      "Epoch = 22 / 100 Cost =  3.37585\n",
      "Epoch = 23 / 100 Cost =  3.30762\n",
      "Epoch = 24 / 100 Cost =  3.10409\n",
      "Epoch = 25 / 100 Cost =  2.89161\n",
      "Epoch = 26 / 100 Cost =  2.72323\n",
      "Epoch = 27 / 100 Cost =  2.52632\n",
      "Epoch = 28 / 100 Cost =  2.41391\n",
      "Epoch = 29 / 100 Cost =  2.36295\n",
      "Epoch = 30 / 100 Cost =  2.29080\n",
      "Epoch = 31 / 100 Cost =  2.24550\n",
      "Epoch = 32 / 100 Cost =  2.13682\n",
      "Epoch = 33 / 100 Cost =  1.99966\n",
      "Epoch = 34 / 100 Cost =  1.89381\n",
      "Epoch = 35 / 100 Cost =  1.78443\n",
      "Epoch = 36 / 100 Cost =  1.73823\n",
      "Epoch = 37 / 100 Cost =  1.66845\n",
      "Epoch = 38 / 100 Cost =  1.63536\n",
      "Epoch = 39 / 100 Cost =  1.57791\n",
      "Epoch = 40 / 100 Cost =  1.53486\n",
      "Epoch = 41 / 100 Cost =  1.45646\n",
      "Epoch = 42 / 100 Cost =  1.41655\n",
      "Epoch = 43 / 100 Cost =  1.36921\n",
      "Epoch = 44 / 100 Cost =  1.35226\n",
      "Epoch = 45 / 100 Cost =  1.32248\n",
      "Epoch = 46 / 100 Cost =  1.27179\n",
      "Epoch = 47 / 100 Cost =  1.24122\n",
      "Epoch = 48 / 100 Cost =  1.20500\n",
      "Epoch = 49 / 100 Cost =  1.17058\n",
      "Epoch = 50 / 100 Cost =  1.15792\n",
      "Epoch = 51 / 100 Cost =  1.13727\n",
      "Epoch = 52 / 100 Cost =  1.10278\n",
      "Epoch = 53 / 100 Cost =  1.07636\n",
      "Epoch = 54 / 100 Cost =  1.05882\n",
      "Epoch = 55 / 100 Cost =  1.04184\n",
      "Epoch = 56 / 100 Cost =  1.02446\n",
      "Epoch = 57 / 100 Cost =  1.00919\n",
      "Epoch = 58 / 100 Cost =  0.99603\n",
      "Epoch = 59 / 100 Cost =  0.98059\n",
      "Epoch = 60 / 100 Cost =  0.96073\n",
      "Epoch = 61 / 100 Cost =  0.94412\n",
      "Epoch = 62 / 100 Cost =  0.93368\n",
      "Epoch = 63 / 100 Cost =  0.92323\n",
      "Epoch = 64 / 100 Cost =  0.90993\n",
      "Epoch = 65 / 100 Cost =  0.89666\n",
      "Epoch = 66 / 100 Cost =  0.88453\n",
      "Epoch = 67 / 100 Cost =  0.87211\n",
      "Epoch = 68 / 100 Cost =  0.86040\n",
      "Epoch = 69 / 100 Cost =  0.84961\n",
      "Epoch = 70 / 100 Cost =  0.83897\n",
      "Epoch = 71 / 100 Cost =  0.83023\n",
      "Epoch = 72 / 100 Cost =  0.82483\n",
      "Epoch = 73 / 100 Cost =  0.82194\n",
      "Epoch = 74 / 100 Cost =  0.82095\n",
      "Epoch = 75 / 100 Cost =  0.82732\n",
      "Epoch = 76 / 100 Cost =  0.83696\n",
      "Epoch = 77 / 100 Cost =  0.84811\n",
      "Epoch = 78 / 100 Cost =  0.82053\n",
      "Epoch = 79 / 100 Cost =  0.77555\n",
      "Epoch = 80 / 100 Cost =  0.75170\n",
      "Epoch = 81 / 100 Cost =  0.76603\n",
      "Epoch = 82 / 100 Cost =  0.76670\n",
      "Epoch = 83 / 100 Cost =  0.73400\n",
      "Epoch = 84 / 100 Cost =  0.72794\n",
      "Epoch = 85 / 100 Cost =  0.73648\n",
      "Epoch = 86 / 100 Cost =  0.71521\n",
      "Epoch = 87 / 100 Cost =  0.70354\n",
      "Epoch = 88 / 100 Cost =  0.70921\n",
      "Epoch = 89 / 100 Cost =  0.69493\n",
      "Epoch = 90 / 100 Cost =  0.68349\n",
      "Epoch = 91 / 100 Cost =  0.68551\n",
      "Epoch = 92 / 100 Cost =  0.67417\n",
      "Epoch = 93 / 100 Cost =  0.66460\n",
      "Epoch = 94 / 100 Cost =  0.66454\n",
      "Epoch = 95 / 100 Cost =  0.65486\n",
      "Epoch = 96 / 100 Cost =  0.64706\n",
      "Epoch = 97 / 100 Cost =  0.64542\n",
      "Epoch = 98 / 100 Cost =  0.63674\n",
      "Epoch = 99 / 100 Cost =  0.63003\n",
      "Epoch = 100 / 100 Cost =  0.62750\n"
     ]
    }
   ],
   "source": [
    "init = tf.global_variables_initializer()\n",
    "with tf.Session() as sess:\n",
    "    sess.run(init)\n",
    "    step = 1\n",
    "    while step <= max_iter:\n",
    "        train_x = sin_in.reshape((1, n_input_len, n_input_dim))\n",
    "        train_y = sin_out.reshape((1, n_output_len, n_output_dim))\n",
    "        c, _ = sess.run([cost, optimizer], feed_dict={x: train_x, y: train_y})\n",
    "        print('Epoch =', str(step), '/', str(max_iter),\n",
    "              'Cost = ', '{:.5f}'.format(c))\n",
    "        step += 1\n",
    "\n",
    "    # Test\n",
    "    pred_out = sess.run(pred, feed_dict={x: train_x})"
   ]
  },
  {
   "cell_type": "code",
   "execution_count": 6,
   "metadata": {
    "collapsed": false
   },
   "outputs": [
    {
     "data": {
      "image/png": "[encoded data removed]",
      "text/plain": [
       "<matplotlib.figure.Figure at 0x118a9bfd0>"
      ]
     },
     "metadata": {},
     "output_type": "display_data"
    }
   ],
   "source": [
    "# Plot\n",
    "f, axes = plt.subplots(2, sharey=True)\n",
    "axes[0].plot(t[:-shift], sin_out, 'o')\n",
    "axes[1].plot(t[:-shift], pred_out, 'o')\n",
    "plt.show()"
   ]
  },
  {
   "cell_type": "markdown",
   "metadata": {},
   "source": [
    "### Further thoughts\n",
    "\n",
    "* For future, the proper number of shifting should be decided. Here, I tried to shift samples to make the output to be orthogonal to the input in correlation. \n",
    "* Windowing might be needed to learn more local shapes"
   ]
  }
 ],
 "metadata": {
  "kernelspec": {
   "display_name": "Python 3",
   "language": "python",
   "name": "python3"
  },
  "language_info": {
   "codemirror_mode": {
    "name": "ipython",
    "version": 3
   },
   "file_extension": ".py",
   "mimetype": "text/x-python",
   "name": "python",
   "nbconvert_exporter": "python",
   "pygments_lexer": "ipython3",
   "version": "3.5.2"
  }
 },
 "nbformat": 4,
 "nbformat_minor": 2
}
