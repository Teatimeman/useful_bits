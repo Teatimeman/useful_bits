{
 "cells": [
  {
   "cell_type": "code",
   "execution_count": 1,
   "metadata": {
    "collapsed": true
   },
   "outputs": [],
   "source": [
    "# simple linear regression\n",
    "# 2017-03-11 jkang\n",
    "# Python3.5\n",
    "# Tensorflow1.0.1\n",
    "# ref: http://web.stanford.edu/class/cs20si/\n",
    "#\n",
    "# input: number of fire\n",
    "# output: number of theft\n",
    "\n",
    "import numpy as np\n",
    "import matplotlib.pyplot as plt\n",
    "import tensorflow as tf\n",
    "import xlrd"
   ]
  },
  {
   "cell_type": "code",
   "execution_count": 2,
   "metadata": {
    "collapsed": false
   },
   "outputs": [],
   "source": [
    "data_file = 'fire_theft.xls'\n",
    "\n",
    "book = xlrd.open_workbook(data_file, encoding_override='utf-8')\n",
    "sheet = book.sheet_by_index(0)\n",
    "data = np.asarray([sheet.row_values(i) for i in range(1, sheet.nrows)])\n",
    "n_samples = sheet.nrows - 1\n",
    "\n",
    "X = tf.placeholder(tf.float64, shape=(), name='NumFire')\n",
    "Y = tf.placeholder(tf.float64, shape=(), name='NumTheft')\n",
    "\n",
    "w = tf.Variable(np.zeros(1), name='Weight')\n",
    "b = tf.Variable(np.zeros(1), name='Bias')\n",
    "\n",
    "Y_predict = tf.add(tf.multiply(X, w), b)\n",
    "\n",
    "def huber_loss(labels, predictions, delta=1.0):\n",
    "    # Huber loss (outlier robust)\n",
    "    delta = np.array(delta, dtype=np.float64)\n",
    "    residual = tf.abs(predictions - labels)\n",
    "    condition = tf.less(residual, delta)\n",
    "    small_res = 0.5 * tf.square(residual)\n",
    "    large_res = delta * residual - 0.5 * tf.square(delta)\n",
    "    return tf.where(condition, small_res, large_res)\n",
    "loss = huber_loss(Y, Y_predict, delta=1.0)\n",
    "\n",
    "# loss = tf.square(tf.sub(Y, Y_predict), name='loss')\n",
    "\n",
    "optimizer = tf.train.GradientDescentOptimizer(\n",
    "    learning_rate=0.01).minimize(loss)"
   ]
  },
  {
   "cell_type": "code",
   "execution_count": 3,
   "metadata": {
    "collapsed": false
   },
   "outputs": [
    {
     "name": "stdout",
     "output_type": "stream",
     "text": [
      "Epoch 0: [ 20.78248941]\n",
      "Epoch 1: [ 17.5085926]\n",
      "Epoch 2: [ 17.43059022]\n",
      "Epoch 3: [ 17.35258784]\n",
      "Epoch 4: [ 17.27458546]\n",
      "Epoch 5: [ 17.19658309]\n",
      "Epoch 6: [ 17.11858071]\n",
      "Epoch 7: [ 17.04057833]\n",
      "Epoch 8: [ 16.96257595]\n",
      "Epoch 9: [ 16.88457357]\n",
      "Epoch 10: [ 16.80657119]\n",
      "Epoch 11: [ 16.72856881]\n",
      "Epoch 12: [ 16.65056643]\n",
      "Epoch 13: [ 16.57189105]\n",
      "Epoch 14: [ 16.49214522]\n",
      "Epoch 15: [ 16.41331964]\n",
      "Epoch 16: [ 16.30321906]\n",
      "Epoch 17: [ 16.16355141]\n",
      "Epoch 18: [ 16.11939643]\n",
      "Epoch 19: [ 15.89864353]\n",
      "Epoch 20: [ 16.00006652]\n",
      "Epoch 21: [ 15.55065575]\n",
      "Epoch 22: [ 15.84791581]\n",
      "Epoch 23: [ 15.37867564]\n",
      "Epoch 24: [ 15.71846368]\n",
      "Epoch 25: [ 15.07982732]\n",
      "Epoch 26: [ 15.62268616]\n",
      "Epoch 27: [ 15.03241077]\n",
      "Epoch 28: [ 15.48340592]\n",
      "Epoch 29: [ 14.69999218]\n",
      "Epoch 30: [ 15.40843224]\n",
      "Epoch 31: [ 14.96007081]\n",
      "Epoch 32: [ 14.97233815]\n",
      "Epoch 33: [ 14.66121992]\n",
      "Epoch 34: [ 15.15022668]\n",
      "Epoch 35: [ 14.38269019]\n",
      "Epoch 36: [ 15.06684032]\n",
      "Epoch 37: [ 14.25294879]\n",
      "Epoch 38: [ 14.98151321]\n",
      "Epoch 39: [ 14.43444012]\n",
      "Epoch 40: [ 14.81153604]\n",
      "Epoch 41: [ 14.02340102]\n",
      "Epoch 42: [ 14.76137576]\n",
      "Epoch 43: [ 13.94231161]\n",
      "Epoch 44: [ 14.67783121]\n",
      "Epoch 45: [ 13.90886679]\n",
      "Epoch 46: [ 14.56982981]\n",
      "Epoch 47: [ 13.76349129]\n",
      "Epoch 48: [ 14.48199347]\n",
      "Epoch 49: [ 13.67545607]\n",
      "Epoch 50: [ 14.39147976]\n",
      "Epoch 51: [ 13.59499179]\n",
      "Epoch 52: [ 14.29828419]\n",
      "Epoch 53: [ 13.52127125]\n",
      "Epoch 54: [ 14.20256893]\n",
      "Epoch 55: [ 13.4554631]\n",
      "Epoch 56: [ 14.07500369]\n",
      "Epoch 57: [ 13.35704845]\n",
      "Epoch 58: [ 13.93325481]\n",
      "Epoch 59: [ 13.29660827]\n",
      "Epoch 60: [ 13.78049716]\n",
      "Epoch 61: [ 13.20453661]\n",
      "Epoch 62: [ 13.75811527]\n",
      "Epoch 63: [ 13.14788769]\n",
      "Epoch 64: [ 13.3960246]\n",
      "Epoch 65: [ 13.10041458]\n",
      "Epoch 66: [ 13.55168312]\n",
      "Epoch 67: [ 13.05141046]\n",
      "Epoch 68: [ 13.05051798]\n",
      "Epoch 69: [ 13.24394998]\n",
      "Epoch 70: [ 13.00572995]\n",
      "Epoch 71: [ 13.0008947]\n",
      "Epoch 72: [ 13.00473231]\n",
      "Epoch 73: [ 12.97760102]\n",
      "Epoch 74: [ 12.96426423]\n",
      "Epoch 75: [ 12.94953553]\n",
      "Epoch 76: [ 12.93409441]\n",
      "Epoch 77: [ 12.91831815]\n",
      "Epoch 78: [ 12.90240773]\n",
      "Epoch 79: [ 12.88646809]\n",
      "Epoch 80: [ 12.87055339]\n",
      "Epoch 81: [ 12.85469139]\n",
      "Epoch 82: [ 12.83889614]\n",
      "Epoch 83: [ 12.82317469]\n",
      "Epoch 84: [ 12.79406614]\n",
      "Epoch 85: [ 12.77535871]\n",
      "Epoch 86: [ 12.76014887]\n",
      "Epoch 87: [ 12.74410493]\n",
      "Epoch 88: [ 12.73003248]\n",
      "Epoch 89: [ 12.71685299]\n",
      "Epoch 90: [ 12.70383218]\n",
      "Epoch 91: [ 12.68992133]\n",
      "Epoch 92: [ 12.67794208]\n",
      "Epoch 93: [ 12.66402113]\n",
      "Epoch 94: [ 12.65329018]\n",
      "Epoch 95: [ 12.6397949]\n",
      "Epoch 96: [ 12.62922677]\n",
      "Epoch 97: [ 12.61670992]\n",
      "Epoch 98: [ 12.60639625]\n",
      "Epoch 99: [ 12.594726]\n"
     ]
    }
   ],
   "source": [
    "with tf.Session() as sess:\n",
    "    sess.run(tf.global_variables_initializer())\n",
    "    writer = tf.summary.FileWriter('./graph', sess.graph)\n",
    "\n",
    "    # online training\n",
    "    for i in range(100):\n",
    "        total_loss = 0\n",
    "        for x, y in data:\n",
    "            _, l = sess.run([optimizer, loss], feed_dict={X: x, Y: y})\n",
    "            total_loss += l\n",
    "        print(\"Epoch {0}: {1}\".format(i, total_loss / n_samples))\n",
    "\n",
    "    w_value, b_value = sess.run([w, b])\n",
    "\n",
    "writer.close()"
   ]
  },
  {
   "cell_type": "code",
   "execution_count": 4,
   "metadata": {
    "collapsed": false
   },
   "outputs": [
    {
     "data": {
      "image/png": "[encoded data removed]",
      "text/plain": [
       "<matplotlib.figure.Figure at 0x10db70550>"
      ]
     },
     "metadata": {},
     "output_type": "display_data"
    }
   ],
   "source": [
    "# plot the results\n",
    "X, Y = data.T[0], data.T[1]\n",
    "plt.plot(X, Y, 'bo', label='Real data')\n",
    "plt.plot(X, X * w_value + b_value, 'r', label='Predicted data')\n",
    "plt.legend()\n",
    "plt.show()"
   ]
  }
 ],
 "metadata": {
  "kernelspec": {
   "display_name": "Python 3",
   "language": "python",
   "name": "python3"
  },
  "language_info": {
   "codemirror_mode": {
    "name": "ipython",
    "version": 3
   },
   "file_extension": ".py",
   "mimetype": "text/x-python",
   "name": "python",
   "nbconvert_exporter": "python",
   "pygments_lexer": "ipython3",
   "version": "3.5.2"
  }
 },
 "nbformat": 4,
 "nbformat_minor": 2
}
