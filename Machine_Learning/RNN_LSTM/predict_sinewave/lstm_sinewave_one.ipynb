{
 "cells": [
  {
   "cell_type": "code",
   "execution_count": 1,
   "metadata": {
    "collapsed": true
   },
   "outputs": [],
   "source": [
    "# Simple LSTM regression\n",
    "# 2017-03-16 jkang\n",
    "# Python3.5\n",
    "# Tensorflow1.0.1\n",
    "#\n",
    "# input: one sinewave\n",
    "# output: one sinewave (shifted input)\n",
    "\n",
    "import tensorflow as tf\n",
    "import numpy as np\n",
    "import matplotlib.pyplot as plt"
   ]
  },
  {
   "cell_type": "code",
   "execution_count": 2,
   "metadata": {
    "collapsed": false
   },
   "outputs": [],
   "source": [
    "# Input, Ouput dataset\n",
    "duration = 10  # sec\n",
    "srate = 100  # Hz\n",
    "freq = .5  # Hz\n",
    "amplitude = np.random.random(1) * 10\n",
    "t = np.linspace(0, duration, duration * srate + 1)\n",
    "sin = np.sin(2 * np.pi * freq * t) * amplitude\n",
    "shift = int(srate/freq*1/4) # 1/4 phase shift to make input & output orthogonal\n",
    "sin_in = sin[:-shift]\n",
    "sin_out = sin[shift:]  # shifting\n",
    "\n",
    "# Hyper-Parameters\n",
    "learning_rate = 0.01\n",
    "max_iter = 20\n",
    "\n",
    "# Network Parameters\n",
    "n_input_dim = 1\n",
    "n_input_len = len(sin_in)\n",
    "n_output_len = len(sin_out)\n",
    "n_hidden = 100\n",
    "n_output_dim = 1\n",
    "\n",
    "# TensorFlow graph\n",
    "# (batch_size) x (time_step) x (input_dimension)\n",
    "x_data = tf.placeholder(tf.float32, [1, n_input_len, n_input_dim])\n",
    "# (batch_size) x (time_step) x (output_dimension)\n",
    "y_data = tf.placeholder(tf.float32, [1, n_output_len, n_output_dim])\n",
    "\n",
    "# Parameters\n",
    "weights = {\n",
    "    'out': tf.Variable(tf.random_normal([n_hidden, n_output_dim]))\n",
    "}\n",
    "biases = {\n",
    "    'out': tf.Variable(tf.random_normal([n_output_dim]))\n",
    "}"
   ]
  },
  {
   "cell_type": "code",
   "execution_count": 3,
   "metadata": {
    "collapsed": false
   },
   "outputs": [],
   "source": [
    "def RNN(x, weights, biases):\n",
    "    cell = tf.contrib.rnn.BasicLSTMCell(n_hidden, forget_bias=1.0) # Make LSTMCell\n",
    "    outputs, states = tf.nn.dynamic_rnn(cell, x, time_major=False, dtype=tf.float32)\n",
    "    '''\n",
    "    **Notes on tf.nn.dynamic_rnn**\n",
    "\n",
    "    - 'x' can have shape (batch)x(time)x(input_dim), if time_major=Flase or \n",
    "                         (time)x(batch)x(input_dim), if time_major=True\n",
    "    - 'outputs' can have the same shape as 'x'\n",
    "                         (batch)x(time)x(input_dim), if time_major=Flase or \n",
    "                         (time)x(batch)x(input_dim), if time_major=True\n",
    "    - 'states' is the final state, determined by batch and hidden_dim\n",
    "    '''\n",
    "    \n",
    "    # outputs[-1] is outputs for the last example in the mini-batch\n",
    "    return tf.matmul(outputs[-1], weights['out']) + biases['out']\n",
    "\n",
    "pred = RNN(x_data, weights, biases)\n",
    "cost = tf.reduce_mean(tf.squared_difference(pred, y_data))\n",
    "optimizer = tf.train.AdamOptimizer(learning_rate=learning_rate).minimize(cost)"
   ]
  },
  {
   "cell_type": "code",
   "execution_count": 4,
   "metadata": {
    "collapsed": false
   },
   "outputs": [
    {
     "name": "stdout",
     "output_type": "stream",
     "text": [
      "Epoch = 1 / 20 Cost =  9.23477\n",
      "Epoch = 2 / 20 Cost =  43.47899\n",
      "Epoch = 3 / 20 Cost =  3.84097\n",
      "Epoch = 4 / 20 Cost =  7.45278\n",
      "Epoch = 5 / 20 Cost =  3.88488\n",
      "Epoch = 6 / 20 Cost =  3.89205\n",
      "Epoch = 7 / 20 Cost =  3.89473\n",
      "Epoch = 8 / 20 Cost =  2.82488\n",
      "Epoch = 9 / 20 Cost =  1.90995\n",
      "Epoch = 10 / 20 Cost =  1.65777\n",
      "Epoch = 11 / 20 Cost =  1.56339\n",
      "Epoch = 12 / 20 Cost =  0.74331\n",
      "Epoch = 13 / 20 Cost =  1.48065\n",
      "Epoch = 14 / 20 Cost =  0.35134\n",
      "Epoch = 15 / 20 Cost =  0.48582\n",
      "Epoch = 16 / 20 Cost =  0.71771\n",
      "Epoch = 17 / 20 Cost =  0.66952\n",
      "Epoch = 18 / 20 Cost =  0.53148\n",
      "Epoch = 19 / 20 Cost =  0.52858\n",
      "Epoch = 20 / 20 Cost =  0.60734\n"
     ]
    }
   ],
   "source": [
    "init = tf.global_variables_initializer()\n",
    "with tf.Session() as sess:\n",
    "    sess.run(init)\n",
    "    step = 1\n",
    "    while step <= max_iter:\n",
    "        x_train = sin_in.reshape((1, n_input_len, n_input_dim))\n",
    "        y_train = sin_out.reshape((1, n_output_len, n_output_dim))\n",
    "        c, _ = sess.run([cost, optimizer], feed_dict={x_data: x_train, y_data: y_train})\n",
    "        print('Epoch =', str(step), '/', str(max_iter),\n",
    "              'Cost = ', '{:.5f}'.format(c))\n",
    "        step += 1\n",
    "\n",
    "    # Test\n",
    "    pred_out = sess.run(pred, feed_dict={x_data: x_train})"
   ]
  },
  {
   "cell_type": "code",
   "execution_count": 5,
   "metadata": {
    "collapsed": false
   },
   "outputs": [
    {
     "data": {
      "image/png": "[encoded data removed]",
      "text/plain": [
       "<matplotlib.figure.Figure at 0x10d95a9e8>"
      ]
     },
     "metadata": {},
     "output_type": "display_data"
    }
   ],
   "source": [
    "# Plot\n",
    "f, axes = plt.subplots(2, sharey=True)\n",
    "axes[0].plot(t[:-shift], sin_out)\n",
    "axes[1].plot(t[:-shift], pred_out)\n",
    "plt.show()"
   ]
  },
  {
   "cell_type": "markdown",
   "metadata": {},
   "source": [
    "## Thoughts\n",
    "\n",
    "* Compared to vanilla RNN ([predict_sinewave_using_RNN](https://github.com/jaekookang/useful_bits/blob/master/Machine_Learning/RNN_LSTM/predict_sinewave/rnn_sinewave_one.ipynb)), LSTM learns sinewave better (smaller cost) and quickly (less epoch)"
   ]
  }
 ],
 "metadata": {
  "kernelspec": {
   "display_name": "Python 3",
   "language": "python",
   "name": "python3"
  },
  "language_info": {
   "codemirror_mode": {
    "name": "ipython",
    "version": 3
   },
   "file_extension": ".py",
   "mimetype": "text/x-python",
   "name": "python",
   "nbconvert_exporter": "python",
   "pygments_lexer": "ipython3",
   "version": "3.5.2"
  }
 },
 "nbformat": 4,
 "nbformat_minor": 2
}
