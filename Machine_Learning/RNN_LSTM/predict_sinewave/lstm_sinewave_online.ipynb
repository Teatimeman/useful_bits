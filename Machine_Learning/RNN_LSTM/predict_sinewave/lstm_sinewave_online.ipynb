{
 "cells": [
  {
   "cell_type": "code",
   "execution_count": 1,
   "metadata": {
    "collapsed": false
   },
   "outputs": [],
   "source": [
    "# Simple RNN-LSTM regression\n",
    "# 2017-03-16 jkang\n",
    "# Python3.5\n",
    "# Tensorflow1.0.1\n",
    "#\n",
    "# input: sinewaves (varying frequency, amplitude and duration)\n",
    "# output: one-sample shifted inputs\n",
    "#\n",
    "# no batch mode (online training)\n",
    "\n",
    "import tensorflow as tf\n",
    "import numpy as np\n",
    "import matplotlib.pyplot as plt"
   ]
  },
  {
   "cell_type": "code",
   "execution_count": 2,
   "metadata": {
    "collapsed": false
   },
   "outputs": [
    {
     "name": "stderr",
     "output_type": "stream",
     "text": [
      "/Users/jaegukang/anaconda3/envs/tensorflow/lib/python3.5/site-packages/ipykernel/__main__.py:10: DeprecationWarning: object of type <class 'numpy.ndarray'> cannot be safely interpreted as an integer.\n"
     ]
    }
   ],
   "source": [
    "# Input, Ouput dataset\n",
    "n_examples = 100\n",
    "srate = 10  # Hz\n",
    "sin_in = {}\n",
    "sin_out = {}\n",
    "for i in range(n_examples):\n",
    "    freq = np.random.random(1)/15 + 0.5  # 1 <= freq < 11 Hz\n",
    "    amplitude = np.random.random(1) * 10\n",
    "    duration = np.random.random(1) * 5 + 5  # sample from 5 ~ 10 sec\n",
    "    t = np.linspace(0, duration, duration * srate + 1)\n",
    "    sin = np.sin(2 * np.pi * freq * t) * amplitude\n",
    "    key = 's' + str(i + 1)\n",
    "    shift = int(srate/freq*1/4)\n",
    "    sin_in[key] = sin[:-shift]\n",
    "    sin_out[key] = sin[shift:]  # shifting"
   ]
  },
  {
   "cell_type": "code",
   "execution_count": 4,
   "metadata": {
    "collapsed": true
   },
   "outputs": [],
   "source": [
    "# Hyper-Parameters\n",
    "learning_rate = 0.001\n",
    "max_iter = 100\n",
    "\n",
    "# Network Parameters\n",
    "n_input_dim = 1\n",
    "n_input_len = len(sin_in)\n",
    "n_output_len = len(sin_out)\n",
    "n_hidden = 200\n",
    "n_output_dim = 1\n",
    "\n",
    "# TensorFlow graph\n",
    "# (batch_size) x (time_step) x (input_dimension)\n",
    "x = tf.placeholder(tf.float32, [1, None, n_input_dim])\n",
    "# (batch_size) x (time_step) x (output_dimension)\n",
    "y = tf.placeholder(tf.float32, [1, None, n_output_dim])\n",
    "\n",
    "# Parameters\n",
    "weights = {\n",
    "    'out': tf.Variable(tf.random_normal([n_hidden, n_output_dim]))\n",
    "}\n",
    "biases = {\n",
    "    'out': tf.Variable(tf.random_normal([n_output_dim]))\n",
    "}"
   ]
  },
  {
   "cell_type": "code",
   "execution_count": 5,
   "metadata": {
    "collapsed": false
   },
   "outputs": [],
   "source": [
    "def RNN(inputs, weights, biases):\n",
    "    # Reshape to (time_step) x (batch_size) x (input_dimension)\n",
    "    inputs = tf.transpose(inputs, [1, 0, 2])\n",
    "    # Reshape to (time_step)*(batch_size) x (input_dimension)\n",
    "    inputs = tf.reshape(inputs, [-1, n_input_dim])\n",
    "    # Split to get a list of time_step tensors of shape (batch_size, input_dimension)\n",
    "    # final 'inputs' is a list of n_input_len elements (=number of frames)\n",
    "    inputs = tf.split(\n",
    "        value=inputs, num_or_size_splits=n_input_len, axis=0)\n",
    "\n",
    "    lstm = tf.contrib.rnn.BasicLSTMCell(n_hidden, forget_bias=1.0)\n",
    "    outputs, states = tf.nn.dynamic_rnn(lstm, x, dtype=tf.float32)\n",
    "    return tf.matmul(outputs[-1], weights['out']) + biases['out']\n",
    "\n",
    "pred = RNN(x, weights, biases)\n",
    "cost = tf.reduce_mean(tf.squared_difference(pred, y))\n",
    "optimizer = tf.train.AdamOptimizer(learning_rate=learning_rate).minimize(cost)"
   ]
  },
  {
   "cell_type": "code",
   "execution_count": 6,
   "metadata": {
    "collapsed": false
   },
   "outputs": [
    {
     "name": "stdout",
     "output_type": "stream",
     "text": [
      "Epoch = 1 / 100 Cost =  2.30783\n",
      "Epoch = 2 / 100 Cost =  0.92011\n",
      "Epoch = 3 / 100 Cost =  0.71015\n",
      "Epoch = 4 / 100 Cost =  0.57192\n",
      "Epoch = 5 / 100 Cost =  0.48977\n",
      "Epoch = 6 / 100 Cost =  0.43537\n",
      "Epoch = 7 / 100 Cost =  0.39500\n",
      "Epoch = 8 / 100 Cost =  0.35027\n",
      "Epoch = 9 / 100 Cost =  0.32645\n",
      "Epoch = 10 / 100 Cost =  0.30309\n",
      "Epoch = 11 / 100 Cost =  0.28208\n",
      "Epoch = 12 / 100 Cost =  0.26590\n",
      "Epoch = 13 / 100 Cost =  0.25234\n",
      "Epoch = 14 / 100 Cost =  0.24436\n",
      "Epoch = 15 / 100 Cost =  0.23169\n",
      "Epoch = 16 / 100 Cost =  0.23014\n",
      "Epoch = 17 / 100 Cost =  0.22540\n",
      "Epoch = 18 / 100 Cost =  0.24387\n",
      "Epoch = 19 / 100 Cost =  0.23897\n",
      "Epoch = 20 / 100 Cost =  0.21399\n",
      "Epoch = 21 / 100 Cost =  0.19755\n",
      "Epoch = 22 / 100 Cost =  0.19024\n",
      "Epoch = 23 / 100 Cost =  0.18060\n",
      "Epoch = 24 / 100 Cost =  0.17782\n",
      "Epoch = 25 / 100 Cost =  0.17124\n",
      "Epoch = 26 / 100 Cost =  0.16895\n",
      "Epoch = 27 / 100 Cost =  0.16402\n",
      "Epoch = 28 / 100 Cost =  0.16128\n",
      "Epoch = 29 / 100 Cost =  0.15762\n",
      "Epoch = 30 / 100 Cost =  0.15439\n",
      "Epoch = 31 / 100 Cost =  0.15208\n",
      "Epoch = 32 / 100 Cost =  0.15152\n",
      "Epoch = 33 / 100 Cost =  0.15014\n",
      "Epoch = 34 / 100 Cost =  0.14743\n",
      "Epoch = 35 / 100 Cost =  0.14381\n",
      "Epoch = 36 / 100 Cost =  0.13995\n",
      "Epoch = 37 / 100 Cost =  0.14076\n",
      "Epoch = 38 / 100 Cost =  0.14106\n",
      "Epoch = 39 / 100 Cost =  0.13780\n",
      "Epoch = 40 / 100 Cost =  0.13365\n",
      "Epoch = 41 / 100 Cost =  0.14224\n",
      "Epoch = 42 / 100 Cost =  0.13994\n",
      "Epoch = 43 / 100 Cost =  0.13498\n",
      "Epoch = 44 / 100 Cost =  0.13465\n",
      "Epoch = 45 / 100 Cost =  0.13179\n",
      "Epoch = 46 / 100 Cost =  0.12829\n",
      "Epoch = 47 / 100 Cost =  0.13914\n",
      "Epoch = 48 / 100 Cost =  0.15973\n",
      "Epoch = 49 / 100 Cost =  0.14105\n",
      "Epoch = 50 / 100 Cost =  0.13020\n",
      "Epoch = 51 / 100 Cost =  0.12659\n",
      "Epoch = 52 / 100 Cost =  0.14906\n",
      "Epoch = 53 / 100 Cost =  0.15188\n",
      "Epoch = 54 / 100 Cost =  0.13118\n",
      "Epoch = 55 / 100 Cost =  0.12301\n",
      "Epoch = 56 / 100 Cost =  0.12787\n",
      "Epoch = 57 / 100 Cost =  0.13538\n",
      "Epoch = 58 / 100 Cost =  0.15617\n",
      "Epoch = 59 / 100 Cost =  0.13519\n",
      "Epoch = 60 / 100 Cost =  0.12132\n",
      "Epoch = 61 / 100 Cost =  0.12386\n",
      "Epoch = 62 / 100 Cost =  0.12164\n",
      "Epoch = 63 / 100 Cost =  0.12071\n",
      "Epoch = 64 / 100 Cost =  0.11797\n",
      "Epoch = 65 / 100 Cost =  0.11991\n",
      "Epoch = 66 / 100 Cost =  0.12023\n",
      "Epoch = 67 / 100 Cost =  0.12190\n",
      "Epoch = 68 / 100 Cost =  0.11762\n",
      "Epoch = 69 / 100 Cost =  0.12171\n",
      "Epoch = 70 / 100 Cost =  0.12038\n",
      "Epoch = 71 / 100 Cost =  0.12340\n",
      "Epoch = 72 / 100 Cost =  0.11826\n",
      "Epoch = 73 / 100 Cost =  0.12172\n",
      "Epoch = 74 / 100 Cost =  0.11844\n",
      "Epoch = 75 / 100 Cost =  0.11940\n",
      "Epoch = 76 / 100 Cost =  0.12160\n",
      "Epoch = 77 / 100 Cost =  0.12570\n",
      "Epoch = 78 / 100 Cost =  0.12072\n",
      "Epoch = 79 / 100 Cost =  0.12042\n",
      "Epoch = 80 / 100 Cost =  0.11812\n",
      "Epoch = 81 / 100 Cost =  0.11819\n",
      "Epoch = 82 / 100 Cost =  0.11919\n",
      "Epoch = 83 / 100 Cost =  0.12550\n",
      "Epoch = 84 / 100 Cost =  0.13959\n",
      "Epoch = 85 / 100 Cost =  0.12063\n",
      "Epoch = 86 / 100 Cost =  0.11342\n",
      "Epoch = 87 / 100 Cost =  0.11368\n",
      "Epoch = 88 / 100 Cost =  0.11413\n",
      "Epoch = 89 / 100 Cost =  0.11807\n",
      "Epoch = 90 / 100 Cost =  0.12298\n",
      "Epoch = 91 / 100 Cost =  0.12451\n",
      "Epoch = 92 / 100 Cost =  0.11545\n",
      "Epoch = 93 / 100 Cost =  0.11419\n",
      "Epoch = 94 / 100 Cost =  0.11512\n",
      "Epoch = 95 / 100 Cost =  0.11835\n",
      "Epoch = 96 / 100 Cost =  0.11957\n",
      "Epoch = 97 / 100 Cost =  0.12099\n",
      "Epoch = 98 / 100 Cost =  0.12429\n",
      "Epoch = 99 / 100 Cost =  0.12270\n",
      "Epoch = 100 / 100 Cost =  0.11736\n"
     ]
    }
   ],
   "source": [
    "init = tf.global_variables_initializer()\n",
    "with tf.Session() as sess:\n",
    "    sess.run(init)\n",
    "    step = 1\n",
    "    while step <= max_iter:\n",
    "        loss = 0\n",
    "        for i in range(n_examples):\n",
    "            key = 's' + str(i + 1)\n",
    "            train_x = sin_in[key].reshape((1, len(sin_in[key]), n_input_dim))\n",
    "            train_y = sin_out[key].reshape(\n",
    "                (1, len(sin_out[key]), n_output_dim))\n",
    "            c, _ = sess.run([cost, optimizer], feed_dict={\n",
    "                            x: train_x, y: train_y})\n",
    "            loss += c\n",
    "        mean_mse = loss / n_examples\n",
    "\n",
    "        print('Epoch =', str(step), '/', str(max_iter),\n",
    "              'Cost = ', '{:.5f}'.format(mean_mse))\n",
    "        step += 1"
   ]
  },
  {
   "cell_type": "code",
   "execution_count": 7,
   "metadata": {
    "collapsed": false,
    "scrolled": false
   },
   "outputs": [
    {
     "data": {
      "image/png": "[encoded data removed]",
      "text/plain": [
       "<matplotlib.figure.Figure at 0x10d92c7b8>"
      ]
     },
     "metadata": {},
     "output_type": "display_data"
    },
    {
     "data": {
      "image/png": "[encoded data removed]",
      "text/plain": [
       "<matplotlib.figure.Figure at 0x1188d45f8>"
      ]
     },
     "metadata": {},
     "output_type": "display_data"
    },
    {
     "data": {
      "image/png": "[encoded data removed]",
      "text/plain": [
       "<matplotlib.figure.Figure at 0x10444df28>"
      ]
     },
     "metadata": {},
     "output_type": "display_data"
    },
    {
     "data": {
      "image/png": "[encoded data removed]",
      "text/plain": [
       "<matplotlib.figure.Figure at 0x118acde80>"
      ]
     },
     "metadata": {},
     "output_type": "display_data"
    }
   ],
   "source": [
    "# Test\n",
    "with tf.Session() as sess:\n",
    "    sess.run(init)\n",
    "    for i in np.arange(5)[1:]:\n",
    "        idx = 's' + str(np.random.permutation(n_examples)[0])\n",
    "        test_x = sin_in[idx].reshape((1, len(sin_in[idx]), n_input_dim))\n",
    "        pred_out = sess.run(pred, feed_dict={x: test_x})\n",
    "        f, axes = plt.subplots(2, sharey=True)\n",
    "        axes[0].plot(sin_out[idx],'o')\n",
    "        axes[1].plot(pred_out,'o')\n",
    "        plt.show()\n",
    "        #f.savefig('result_' + idx + '.png')"
   ]
  },
  {
   "cell_type": "markdown",
   "metadata": {},
   "source": [
    "### Result  \n",
    "\n",
    "When the model (RNN-LSTM) has to learn sinewaves varying in frequency, amplitude and duration, it doesn't correctly learn the input in the end.  \n",
    "  \n",
    "Possible conjectures:  \n",
    "* Input patterns (i.e. frequency and amplitude) are so varaible that the model only tries to generalize the entire input patterns.\n",
    "* Input data should be checked whether different patterns are balanced for training\n",
    "* Time window for input might be needed to learn local shapes better"
   ]
  }
 ],
 "metadata": {
  "kernelspec": {
   "display_name": "Python 3",
   "language": "python",
   "name": "python3"
  },
  "language_info": {
   "codemirror_mode": {
    "name": "ipython",
    "version": 3
   },
   "file_extension": ".py",
   "mimetype": "text/x-python",
   "name": "python",
   "nbconvert_exporter": "python",
   "pygments_lexer": "ipython3",
   "version": "3.5.2"
  }
 },
 "nbformat": 4,
 "nbformat_minor": 2
}
