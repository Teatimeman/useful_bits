{
 "cells": [
  {
   "cell_type": "code",
   "execution_count": null,
   "metadata": {
    "collapsed": false
   },
   "outputs": [],
   "source": [
    "# Simple RNN regression\n",
    "# 2017-03-16 jkang\n",
    "# Python3.5\n",
    "# Tensorflow1.0.1\n",
    "#\n",
    "# input: sinewaves (varying frequency, amplitude and duration)\n",
    "# output: sinewaves (shifted inputs)\n",
    "#\n",
    "# no mini-batch mode (online training)\n",
    "\n",
    "import tensorflow as tf\n",
    "import numpy as np\n",
    "import matplotlib.pyplot as plt"
   ]
  },
  {
   "cell_type": "code",
   "execution_count": null,
   "metadata": {
    "collapsed": false
   },
   "outputs": [],
   "source": [
    "# Input, Ouput dataset\n",
    "n_examples = 100\n",
    "srate = 200  # Hz\n",
    "sin_in = {}\n",
    "sin_out = {}\n",
    "for i in range(n_examples):\n",
    "    freq = np.random.random(1) * 10 + 1  # 1 <= freq < 11 Hz\n",
    "    amplitude = np.random.random(1) * 10\n",
    "    duration = np.random.random(1) * 5 + 5  # sample from 5 ~ 10 sec\n",
    "    t = np.linspace(0, duration, duration * srate + 1)\n",
    "    sin = np.sin(2 * np.pi * freq * t) * amplitude\n",
    "    key = 's' + str(i + 1)\n",
    "    shift = int(srate/freq*1/4) # 1/4 phase shift to make input & output orthogonal\n",
    "    sin_in[key] = sin[:-shift]\n",
    "    sin_out[key] = sin[shift:]"
   ]
  },
  {
   "cell_type": "code",
   "execution_count": null,
   "metadata": {
    "collapsed": true
   },
   "outputs": [],
   "source": [
    "# Hyper-Parameters\n",
    "learning_rate = 0.01\n",
    "max_iter = 20\n",
    "\n",
    "# Network Parameters\n",
    "n_input_dim = 1\n",
    "# n_input_len = len(sin_in)\n",
    "# n_output_len = len(sin_out)\n",
    "n_hidden = 100\n",
    "n_output_dim = 1\n",
    "\n",
    "# TensorFlow graph\n",
    "# (batch_size) x (time_step) x (input_dimension)\n",
    "x_data = tf.placeholder(tf.float32, [1, None, n_input_dim])\n",
    "# (batch_size) x (time_step) x (output_dimension)\n",
    "y_data = tf.placeholder(tf.float32, [1, None, n_output_dim])\n",
    "\n",
    "# Parameters\n",
    "weights = {\n",
    "    'out': tf.Variable(tf.random_normal([n_hidden, n_output_dim]))\n",
    "}\n",
    "biases = {\n",
    "    'out': tf.Variable(tf.random_normal([n_output_dim]))\n",
    "}"
   ]
  },
  {
   "cell_type": "code",
   "execution_count": null,
   "metadata": {
    "collapsed": false
   },
   "outputs": [],
   "source": [
    "def RNN(x, weights, biases):\n",
    "    cell = tf.contrib.rnn.BasicRNNCell(n_hidden) # Make RNNCell\n",
    "    outputs, states = tf.nn.dynamic_rnn(cell, x, time_major=False, dtype=tf.float32)\n",
    "    '''\n",
    "    **Notes on tf.nn.dynamic_rnn**\n",
    "\n",
    "    - 'x' can have shape (batch)x(time)x(input_dim), if time_major=Flase or \n",
    "                         (time)x(batch)x(input_dim), if time_major=True\n",
    "    - 'outputs' can have the same shape as 'x'\n",
    "                         (batch)x(time)x(input_dim), if time_major=Flase or \n",
    "                         (time)x(batch)x(input_dim), if time_major=True\n",
    "    - 'states' is the final state, determined by batch and hidden_dim\n",
    "    '''\n",
    "    \n",
    "    # outputs[-1] is outputs for the last example in the mini-batch\n",
    "    return tf.matmul(outputs[-1], weights['out']) + biases['out']\n",
    "\n",
    "pred = RNN(x_data, weights, biases)\n",
    "cost = tf.reduce_mean(tf.squared_difference(pred, y_data))\n",
    "optimizer = tf.train.AdamOptimizer(learning_rate=learning_rate).minimize(cost)"
   ]
  },
  {
   "cell_type": "code",
   "execution_count": null,
   "metadata": {
    "collapsed": false
   },
   "outputs": [],
   "source": [
    "init = tf.global_variables_initializer()\n",
    "with tf.Session() as sess:\n",
    "    sess.run(init)\n",
    "    step = 1\n",
    "    while step <= max_iter:\n",
    "        loss = 0\n",
    "        for i in range(n_examples):\n",
    "            key = 's' + str(i + 1)\n",
    "            x_train = sin_in[key].reshape((1, len(sin_in[key]), n_input_dim))\n",
    "            y_train = sin_out[key].reshape(\n",
    "                (1, len(sin_out[key]), n_output_dim))\n",
    "            c, _ = sess.run([cost, optimizer], feed_dict={\n",
    "                            x_data: x_train, y_data: y_train})\n",
    "            loss += c\n",
    "        mean_mse = loss / n_examples\n",
    "\n",
    "        print('Epoch =', str(step), '/', str(max_iter),\n",
    "              'Cost = ', '{:.5f}'.format(mean_mse))\n",
    "        step += 1"
   ]
  },
  {
   "cell_type": "code",
   "execution_count": null,
   "metadata": {
    "collapsed": false
   },
   "outputs": [],
   "source": [
    "# Test\n",
    "with tf.Session() as sess:\n",
    "    sess.run(init)\n",
    "    for i in np.arange(5)[1:]:\n",
    "        idx = 's' + str(np.random.permutation(n_examples)[0])\n",
    "        x_test = sin_in[idx].reshape((1, len(sin_in[idx]), n_input_dim))\n",
    "        pred_out = sess.run(pred, feed_dict={x_data: x_test})\n",
    "        f, axes = plt.subplots(2, sharey=True)\n",
    "        axes[0].plot(sin_out[idx])\n",
    "        axes[1].plot(pred_out)\n",
    "        plt.show()\n",
    "        #f.savefig('result_' + idx + '.png')"
   ]
  }
 ],
 "metadata": {
  "kernelspec": {
   "display_name": "Python 3",
   "language": "python",
   "name": "python3"
  },
  "language_info": {
   "codemirror_mode": {
    "name": "ipython",
    "version": 3
   },
   "file_extension": ".py",
   "mimetype": "text/x-python",
   "name": "python",
   "nbconvert_exporter": "python",
   "pygments_lexer": "ipython3",
   "version": "3.5.2"
  }
 },
 "nbformat": 4,
 "nbformat_minor": 2
}
