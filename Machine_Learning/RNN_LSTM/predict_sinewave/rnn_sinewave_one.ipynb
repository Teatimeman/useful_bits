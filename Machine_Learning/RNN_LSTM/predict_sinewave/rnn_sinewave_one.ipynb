{
 "cells": [
  {
   "cell_type": "code",
   "execution_count": 4,
   "metadata": {
    "collapsed": true
   },
   "outputs": [],
   "source": [
    "# Simple RNN-LSTM regression\n",
    "# 2017-03-16 jkang\n",
    "# Python3.5\n",
    "# Tensorflow1.0.1\n",
    "#\n",
    "# input: one sinewave\n",
    "# output: one sinewave (one sample shifted)\n",
    "\n",
    "import tensorflow as tf\n",
    "import numpy as np\n",
    "import matplotlib.pyplot as plt"
   ]
  },
  {
   "cell_type": "code",
   "execution_count": 5,
   "metadata": {
    "collapsed": true
   },
   "outputs": [],
   "source": [
    "# Input, Ouput dataset\n",
    "duration = 10  # sec\n",
    "srate = 100  # Hz\n",
    "freq = .5  # Hz\n",
    "amplitude = np.random.random(1) * 10\n",
    "t = np.linspace(0, duration, duration * srate + 1)\n",
    "sin = np.sin(2 * np.pi * freq * t) * amplitude\n",
    "shift = 10\n",
    "sin_in = sin[:-shift]\n",
    "sin_out = sin[shift:]  # shifting\n",
    "\n",
    "# Hyper-Parameters\n",
    "learning_rate = 0.01\n",
    "max_iter = 20\n",
    "\n",
    "# Network Parameters\n",
    "n_input_dim = 1\n",
    "n_input_len = len(sin_in)\n",
    "n_output_len = len(sin_out)\n",
    "n_hidden = 50\n",
    "n_output_dim = 1\n",
    "\n",
    "# TensorFlow graph\n",
    "# (batch_size) x (time_step) x (input_dimension)\n",
    "x = tf.placeholder(tf.float32, [1, n_input_len, n_input_dim])\n",
    "# (batch_size) x (time_step) x (output_dimension)\n",
    "y = tf.placeholder(tf.float32, [1, n_output_len, n_output_dim])\n",
    "\n",
    "# Parameters\n",
    "weights = {\n",
    "    'out': tf.Variable(tf.random_normal([n_hidden, n_output_dim]))\n",
    "}\n",
    "biases = {\n",
    "    'out': tf.Variable(tf.random_normal([n_output_dim]))\n",
    "}"
   ]
  },
  {
   "cell_type": "code",
   "execution_count": 7,
   "metadata": {
    "collapsed": false
   },
   "outputs": [],
   "source": [
    "def RNN(x, weights, biases):\n",
    "    lstm = tf.contrib.rnn.BasicLSTMCell(n_hidden, forget_bias=1.0)\n",
    "    outputs, states = tf.nn.dynamic_rnn(lstm, x, dtype=tf.float32)\n",
    "    return tf.matmul(outputs[-1], weights['out']) + biases['out']\n",
    "\n",
    "pred, vals = RNN(x, weights, biases)\n",
    "cost = tf.reduce_mean(tf.squared_difference(pred, y))\n",
    "optimizer = tf.train.AdamOptimizer(learning_rate=learning_rate).minimize(cost)"
   ]
  },
  {
   "cell_type": "code",
   "execution_count": null,
   "metadata": {
    "collapsed": false
   },
   "outputs": [],
   "source": [
    "init = tf.global_variables_initializer()\n",
    "with tf.Session() as sess:\n",
    "    sess.run(init)\n",
    "    step = 1\n",
    "    while step <= max_iter:\n",
    "        train_x = sin_in.reshape((1, n_input_len, n_input_dim))\n",
    "        train_y = sin_out.reshape((1, n_output_len, n_output_dim))\n",
    "        c, _ = sess.run([cost, optimizer], feed_dict={x: train_x, y: train_y})\n",
    "        print('Epoch =', str(step), '/', str(max_iter),\n",
    "              'Cost = ', '{:.5f}'.format(c))\n",
    "        step += 1\n",
    "\n",
    "    # Test\n",
    "    pred_out = sess.run(pred, feed_dict={x: train_x})"
   ]
  },
  {
   "cell_type": "code",
   "execution_count": null,
   "metadata": {
    "collapsed": false
   },
   "outputs": [],
   "source": [
    "# Plot\n",
    "f, axes = plt.subplots(2, sharey=True)\n",
    "axes[0].plot(t[:-shift], sin_out)\n",
    "axes[1].plot(t[:-shift], pred_out)\n",
    "plt.show()"
   ]
  }
 ],
 "metadata": {
  "kernelspec": {
   "display_name": "Python 3",
   "language": "python",
   "name": "python3"
  },
  "language_info": {
   "codemirror_mode": {
    "name": "ipython",
    "version": 3
   },
   "file_extension": ".py",
   "mimetype": "text/x-python",
   "name": "python",
   "nbconvert_exporter": "python",
   "pygments_lexer": "ipython3",
   "version": "3.5.2"
  }
 },
 "nbformat": 4,
 "nbformat_minor": 2
}
