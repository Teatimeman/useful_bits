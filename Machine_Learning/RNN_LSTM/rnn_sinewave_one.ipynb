{
 "cells": [
  {
   "cell_type": "code",
   "execution_count": 1,
   "metadata": {
    "collapsed": true
   },
   "outputs": [],
   "source": [
    "# Simple RNN-LSTM regression\n",
    "# 2017-03-16 jkang\n",
    "# Python3.5\n",
    "# Tensorflow1.0.1\n",
    "#\n",
    "# input: one sinewave\n",
    "# output: one sinewave (one sample shifted)\n",
    "\n",
    "import tensorflow as tf\n",
    "import numpy as np\n",
    "import matplotlib.pyplot as plt"
   ]
  },
  {
   "cell_type": "code",
   "execution_count": 2,
   "metadata": {
    "collapsed": true
   },
   "outputs": [],
   "source": [
    "# Input, Ouput dataset\n",
    "duration = 10  # sec\n",
    "srate = 100  # Hz\n",
    "freq = .5  # Hz\n",
    "amplitude = np.random.random(1) * 10\n",
    "t = np.linspace(0, duration, duration * srate + 1)\n",
    "sin = np.sin(2 * np.pi * freq * t) * amplitude\n",
    "sin_in = sin[:-1]\n",
    "sin_out = sin[1:]  # one sample shifting\n",
    "\n",
    "# Hyper-Parameters\n",
    "learning_rate = 0.01\n",
    "max_iter = 20\n",
    "\n",
    "# Network Parameters\n",
    "n_input_dim = 1\n",
    "n_input_len = len(sin_in)\n",
    "n_output_len = len(sin_out)\n",
    "n_hidden = 50\n",
    "n_output_dim = 1\n",
    "\n",
    "# TensorFlow graph\n",
    "# (batch_size) x (time_step) x (input_dimension)\n",
    "x = tf.placeholder(tf.float32, [1, n_input_len, n_input_dim])\n",
    "# (batch_size) x (time_step) x (output_dimension)\n",
    "y = tf.placeholder(tf.float32, [1, n_output_len, n_output_dim])\n",
    "\n",
    "# Parameters\n",
    "weights = {\n",
    "    'out': tf.Variable(tf.random_normal([n_hidden, n_output_dim]))\n",
    "}\n",
    "biases = {\n",
    "    'out': tf.Variable(tf.random_normal([n_output_dim]))\n",
    "}"
   ]
  },
  {
   "cell_type": "code",
   "execution_count": 3,
   "metadata": {
    "collapsed": false
   },
   "outputs": [],
   "source": [
    "def RNN(inputs, weights, biases):\n",
    "    # Reshape to (time_step) x (batch_size) x (input_dimension)\n",
    "    inputs = tf.transpose(inputs, [1, 0, 2])\n",
    "    # Reshape to (time_step)*(batch_size) x (input_dimension)\n",
    "    inputs = tf.reshape(inputs, [-1, n_input_dim])\n",
    "    # Split to get a list of time_step tensors of shape (batch_size, input_dimension)\n",
    "    # final 'inputs' is a list of n_input_len elements (=number of frames)\n",
    "    inputs = tf.split(value=inputs, num_or_size_splits=n_input_len, axis=0)\n",
    "\n",
    "    lstm = tf.contrib.rnn.BasicLSTMCell(n_hidden, forget_bias=1.0)\n",
    "    outputs, states = tf.nn.dynamic_rnn(lstm, x, dtype=tf.float32)\n",
    "    return tf.matmul(outputs[-1], weights['out']) + biases['out']\n",
    "\n",
    "pred = RNN(x, weights, biases)\n",
    "cost = tf.reduce_mean(tf.squared_difference(pred, y))\n",
    "optimizer = tf.train.AdamOptimizer(learning_rate=learning_rate).minimize(cost)"
   ]
  },
  {
   "cell_type": "code",
   "execution_count": 4,
   "metadata": {
    "collapsed": false
   },
   "outputs": [
    {
     "name": "stdout",
     "output_type": "stream",
     "text": [
      "Epoch = 1 / 20 Cost =  4.08698\n",
      "Epoch = 2 / 20 Cost =  3.26362\n",
      "Epoch = 3 / 20 Cost =  1.00396\n",
      "Epoch = 4 / 20 Cost =  0.65771\n",
      "Epoch = 5 / 20 Cost =  0.76082\n",
      "Epoch = 6 / 20 Cost =  0.27734\n",
      "Epoch = 7 / 20 Cost =  0.22924\n",
      "Epoch = 8 / 20 Cost =  0.35948\n",
      "Epoch = 9 / 20 Cost =  0.32890\n",
      "Epoch = 10 / 20 Cost =  0.12803\n",
      "Epoch = 11 / 20 Cost =  0.07505\n",
      "Epoch = 12 / 20 Cost =  0.19361\n",
      "Epoch = 13 / 20 Cost =  0.21133\n",
      "Epoch = 14 / 20 Cost =  0.12861\n",
      "Epoch = 15 / 20 Cost =  0.07687\n",
      "Epoch = 16 / 20 Cost =  0.07026\n",
      "Epoch = 17 / 20 Cost =  0.08941\n",
      "Epoch = 18 / 20 Cost =  0.11388\n",
      "Epoch = 19 / 20 Cost =  0.10268\n",
      "Epoch = 20 / 20 Cost =  0.05631\n"
     ]
    },
    {
     "data": {
      "image/png": "[encoded data removed]",
      "text/plain": [
       "<matplotlib.figure.Figure at 0x10d811e80>"
      ]
     },
     "metadata": {},
     "output_type": "display_data"
    }
   ],
   "source": [
    "init = tf.global_variables_initializer()\n",
    "with tf.Session() as sess:\n",
    "    sess.run(init)\n",
    "    step = 1\n",
    "    while step <= max_iter:\n",
    "        train_x = sin_in.reshape((1, n_input_len, n_input_dim))\n",
    "        train_y = sin_out.reshape((1, n_output_len, n_output_dim))\n",
    "        c, _ = sess.run([cost, optimizer], feed_dict={x: train_x, y: train_y})\n",
    "        print('Epoch =', str(step), '/', str(max_iter),\n",
    "              'Cost = ', '{:.5f}'.format(c))\n",
    "        step += 1\n",
    "\n",
    "    # Test\n",
    "    pred_out = sess.run(pred, feed_dict={x: train_x})\n",
    "\n",
    "# Plot\n",
    "f, axes = plt.subplots(2, sharey=True)\n",
    "axes[0].plot(t[:-1], sin_out)\n",
    "axes[1].plot(t[:-1], pred_out)\n",
    "plt.show()"
   ]
  }
 ],
 "metadata": {
  "kernelspec": {
   "display_name": "Python 3",
   "language": "python",
   "name": "python3"
  },
  "language_info": {
   "codemirror_mode": {
    "name": "ipython",
    "version": 3
   },
   "file_extension": ".py",
   "mimetype": "text/x-python",
   "name": "python",
   "nbconvert_exporter": "python",
   "pygments_lexer": "ipython3",
   "version": "3.5.2"
  }
 },
 "nbformat": 4,
 "nbformat_minor": 2
}
