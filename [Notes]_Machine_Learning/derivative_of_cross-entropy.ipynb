{
 "cells": [
  {
   "cell_type": "markdown",
   "metadata": {},
   "source": [
    "# Derive the gradients of cross entropy loss w.r.t. inputs\n",
    "\n",
    "2017-04-14 jkang  \n",
    "Python 3.5\n",
    "\n",
    "\n",
    "### <center>Softmax Function</center>\n",
    "\\begin{align}\n",
    "\\hat{y} &= \\mathbf{softmax}(\\theta) \\\\ \\\\\n",
    "where,\\ &\\theta\\ is\\ (n\\ by\\ 1) \\\\\n",
    "& \\hat{y}\\ is\\ (n\\ by\\ 1) \\\\\n",
    "& n\\ is\\ number\\ of\\ features\\ \\\\ \n",
    "&\\quad or\\ number\\ of\\ words\n",
    "\\end{align}\n",
    "\n",
    "### <center>Cross Entropy Loss</center>\n",
    "\\begin{align}\n",
    "&\\quad CE(y,\\ \\hat{y}) = -\\sum_{i}y_ilog(\\hat{y}_i) \\\\ \\\\\n",
    "&where,\\ y\\ is\\ (n\\ by\\ 1:\\ one-hot\\ coding) \\\\\n",
    "\\end{align}"
   ]
  }
 ],
 "metadata": {
  "kernelspec": {
   "display_name": "Python [default]",
   "language": "python",
   "name": "python3"
  },
  "language_info": {
   "codemirror_mode": {
    "name": "ipython",
    "version": 3
   },
   "file_extension": ".py",
   "mimetype": "text/x-python",
   "name": "python",
   "nbconvert_exporter": "python",
   "pygments_lexer": "ipython3",
   "version": "3.5.2"
  }
 },
 "nbformat": 4,
 "nbformat_minor": 2
}
