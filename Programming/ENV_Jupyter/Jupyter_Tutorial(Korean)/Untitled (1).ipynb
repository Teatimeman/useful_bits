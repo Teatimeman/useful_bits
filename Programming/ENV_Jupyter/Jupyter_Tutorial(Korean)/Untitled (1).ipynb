{
 "cells": [
  {
   "cell_type": "code",
   "execution_count": 2,
   "metadata": {
    "collapsed": false
   },
   "outputs": [
    {
     "data": {
      "text/html": [
       "<head>\n",
       "  <link rel=\"import\" href=\"https://github.com/jaekookang/useful_bits/blob/master/Programming/%5BEnv%5D_Jupyter/Jupyter_Tutorial/ipynb_data/01_intro_install.html\">\n",
       "</head>"
      ],
      "text/plain": [
       "<IPython.core.display.HTML object>"
      ]
     },
     "metadata": {},
     "output_type": "display_data"
    }
   ],
   "source": [
    "%%html\n",
    "<head>\n",
    "  <link rel=\"import\" href=\"https://github.com/jaekookang/useful_bits/blob/master/Programming/%5BEnv%5D_Jupyter/Jupyter_Tutorial/ipynb_data/01_intro_install.html\">\n",
    "</head>"
   ]
  }
 ],
 "metadata": {
  "kernelspec": {
   "display_name": "Python 3",
   "language": "python",
   "name": "python3"
  },
  "language_info": {
   "codemirror_mode": {
    "name": "ipython",
    "version": 3
   },
   "file_extension": ".py",
   "mimetype": "text/x-python",
   "name": "python",
   "nbconvert_exporter": "python",
   "pygments_lexer": "ipython3",
   "version": "3.5.2"
  }
 },
 "nbformat": 4,
 "nbformat_minor": 2
}
