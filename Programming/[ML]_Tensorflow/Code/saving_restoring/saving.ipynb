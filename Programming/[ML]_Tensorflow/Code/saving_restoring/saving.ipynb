{
 "cells": [
  {
   "cell_type": "markdown",
   "metadata": {},
   "source": [
    "# Example of saving TensorFlow variables\n",
    "2017-04-11 jkang  \n",
    "Python3.5  \n",
    "TensorFlow1.0.1  \n",
    "\n",
    "Reference:  \n",
    "- https://www.tensorflow.org/programmers_guide/variables\n",
    "- https://github.com/maestrojeong/tensorflow_basic"
   ]
  },
  {
   "cell_type": "code",
   "execution_count": 1,
   "metadata": {
    "collapsed": true
   },
   "outputs": [],
   "source": [
    "import tensorflow as tf\n",
    "import os"
   ]
  },
  {
   "cell_type": "code",
   "execution_count": 2,
   "metadata": {
    "collapsed": false
   },
   "outputs": [
    {
     "name": "stdout",
     "output_type": "stream",
     "text": [
      "var1: Tensor(\"var1/read:0\", shape=(), dtype=float32)\n",
      "var2: Tensor(\"var2/read:0\", shape=(), dtype=float32)\n",
      "var3: Tensor(\"add:0\", shape=(), dtype=float32)\n"
     ]
    }
   ],
   "source": [
    "# Make save directory\n",
    "if not os.path.exists('save'):\n",
    "    os.mkdir('save')\n",
    "\n",
    "# Define variables\n",
    "var1 = tf.Variable(2., name='var1'); print('var1:', var1)\n",
    "var2 = tf.Variable(5., name='var2'); print('var2:', var2)\n",
    "var3 = tf.add(var1, var2, name='add'); print('var3:', var3)\n",
    "\n",
    "save_dir = 'save/all_var.ckpt' # Make sure to include \n",
    "                               #'directory_name/saving_file_name.ckpt'\n",
    "saver = tf.train.Saver() # Initiate Saver object"
   ]
  },
  {
   "cell_type": "code",
   "execution_count": 3,
   "metadata": {
    "collapsed": false
   },
   "outputs": [
    {
     "name": "stdout",
     "output_type": "stream",
     "text": [
      "var1 = 2.0\n",
      "var2 = 5.0\n",
      "add = 7.0\n"
     ]
    }
   ],
   "source": [
    "init = tf.global_variables_initializer()\n",
    "with tf.Session() as sess:\n",
    "    sess.run(init)\n",
    "    saver.save(sess, save_dir) # Save\n",
    "    \n",
    "    print('var1 = {}'.format(sess.run(var1)))\n",
    "    print('var2 = {}'.format(sess.run(var2)))\n",
    "    print('add = {}'.format(sess.run(var3)))"
   ]
  }
 ],
 "metadata": {
  "kernelspec": {
   "display_name": "Python 3",
   "language": "python",
   "name": "python3"
  },
  "language_info": {
   "codemirror_mode": {
    "name": "ipython",
    "version": 3
   },
   "file_extension": ".py",
   "mimetype": "text/x-python",
   "name": "python",
   "nbconvert_exporter": "python",
   "pygments_lexer": "ipython3",
   "version": "3.5.2"
  }
 },
 "nbformat": 4,
 "nbformat_minor": 2
}
