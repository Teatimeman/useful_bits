{
 "cells": [
  {
   "cell_type": "markdown",
   "metadata": {},
   "source": [
    "# Example of restoring TensorFlow variables\n",
    "2017-04-11 jkang  \n",
    "Python3.5  \n",
    "TensorFlow1.0.1  \n",
    "\n",
    "Reference:  \n",
    "- https://www.tensorflow.org/programmers_guide/variables\n",
    "- https://github.com/maestrojeong/tensorflow_basic"
   ]
  },
  {
   "cell_type": "code",
   "execution_count": 1,
   "metadata": {
    "collapsed": true
   },
   "outputs": [],
   "source": [
    "import tensorflow as tf\n",
    "import os"
   ]
  },
  {
   "cell_type": "code",
   "execution_count": 2,
   "metadata": {
    "collapsed": false
   },
   "outputs": [
    {
     "name": "stdout",
     "output_type": "stream",
     "text": [
      "var1:0\n",
      "var2:0\n",
      "var1 = 2.0\n",
      "var2 = 5.0\n",
      "var3 = 7.0\n"
     ]
    }
   ],
   "source": [
    "# Saved variables\n",
    "#\n",
    "# var1 = tf.Variable(2., name='var1'); print('var1:', var1)\n",
    "# var2 = tf.Variable(5., name='var2'); print('var2:', var2)\n",
    "# var3 = tf.add(var1, var2, name='add'); print('var3:', var3)\n",
    "#\n",
    "# Saved files\n",
    "#\n",
    "# ./save/all_var.ckpt.data-00000-of-00001\n",
    "# ./save/all_var.ckpt.index\n",
    "# ./save/all_var.ckpt.meta\n",
    "\n",
    "# Restore\n",
    "saved_data = './save/all_var.ckpt'\n",
    "meta_data = saved_data + '.meta'\n",
    "saver = tf.train.import_meta_graph(meta_data)\n",
    "graph = tf.get_default_graph()\n",
    "init = tf.global_variables_initializer()\n",
    "with tf.Session() as sess:\n",
    "    sess.run(init)\n",
    "    saver.restore(sess, saved_data) # Load\n",
    "\n",
    "    # Check variables\n",
    "    for v in tf.global_variables():\n",
    "        print(v.name)\n",
    "    var1_restored = graph.get_tensor_by_name('var1:0')\n",
    "    var2_restored = graph.get_tensor_by_name('var2:0')\n",
    "    var3_restored = graph.get_tensor_by_name('add:0') # var3 is not a variable\n",
    "    \n",
    "    print('var1 =', sess.run(var1_restored))\n",
    "    print('var2 =', sess.run(var2_restored))\n",
    "    print('var3 =', sess.run(var3_restored))"
   ]
  }
 ],
 "metadata": {
  "kernelspec": {
   "display_name": "Python 3",
   "language": "python",
   "name": "python3"
  },
  "language_info": {
   "codemirror_mode": {
    "name": "ipython",
    "version": 3
   },
   "file_extension": ".py",
   "mimetype": "text/x-python",
   "name": "python",
   "nbconvert_exporter": "python",
   "pygments_lexer": "ipython3",
   "version": "3.5.2"
  }
 },
 "nbformat": 4,
 "nbformat_minor": 2
}
