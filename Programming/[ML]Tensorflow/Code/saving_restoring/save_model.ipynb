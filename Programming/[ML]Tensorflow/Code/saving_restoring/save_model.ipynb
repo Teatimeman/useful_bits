{
 "cells": [
  {
   "cell_type": "code",
   "execution_count": 1,
   "metadata": {
    "collapsed": true
   },
   "outputs": [],
   "source": [
    "# Example of saving and restoring TensorFlow variables/operations/weights\n",
    "# 2017-04-10 jkang\n",
    "# Python3.5\n",
    "# TensorFlow1.0.1\n",
    "#\n",
    "# Simple linear regression\n",
    "# >> y = w*x + b\n",
    "#\n",
    "# ref: \n",
    "# - https://www.tensorflow.org/programmers_guide/variables\n",
    "# - https://blog.metaflow.fr/tensorflow-how-to-freeze-a-model-and-serve-it-with-a-python-api-d4f3596b3adc\n",
    "\n",
    "import tensorflow as tf\n",
    "import numpy as np\n",
    "import os"
   ]
  },
  {
   "cell_type": "code",
   "execution_count": 2,
   "metadata": {
    "collapsed": false
   },
   "outputs": [
    {
     "name": "stdout",
     "output_type": "stream",
     "text": [
      "x Tensor(\"x_data:0\", shape=(), dtype=float32)\n",
      "y Tensor(\"y_data:0\", shape=(), dtype=float32)\n",
      "w Tensor(\"Weight/read:0\", shape=(), dtype=float32)\n",
      "b Tensor(\"Bias/read:0\", shape=(), dtype=float32)\n",
      "optimizer:\n",
      " name: \"GradientDescent\"\n",
      "op: \"NoOp\"\n",
      "input: \"^GradientDescent/update_Weight/ApplyGradientDescent\"\n",
      "input: \"^GradientDescent/update_Bias/ApplyGradientDescent\"\n",
      "\n"
     ]
    }
   ],
   "source": [
    "# Define input/output\n",
    "x_data = np.array([1,2,3,4,5,6,7,8,9,10], dtype=np.float32)\n",
    "y_data = np.array([5.1,6.9,8,11.5,13.1,14.7,15.9,20,20.8,22], dtype=np.float32)\n",
    "\n",
    "# Define variables\n",
    "x = tf.placeholder(tf.float32, shape=(), name='x_data'); print('x', x)\n",
    "y = tf.placeholder(tf.float32, shape=(), name='y_data'); print('y', y)\n",
    "\n",
    "w = tf.Variable(np.random.random(), dtype=tf.float32, name='Weight'); print('w', w)\n",
    "b = tf.Variable(np.random.random(), dtype=tf.float32, name='Bias'); print('b', b)\n",
    "\n",
    "y_pred = tf.add(tf.multiply(x, w), b)\n",
    "loss = tf.square(tf.subtract(y, y_pred), name='loss')\n",
    "optimizer = tf.train.GradientDescentOptimizer(0.01).minimize(loss); print('optimizer:\\n', optimizer)\n",
    "\n",
    "# Define Saver object\n",
    "saver = tf.train.Saver()\n",
    "# saver = tf.train.Saver({'v1': v1}) # saving only specified variable\n",
    "\n",
    "# Make result folder\n",
    "if not os.path.exists('result'):\n",
    "    os.makedirs('result')\n",
    "\n",
    "init = tf.global_variables_initializer()"
   ]
  },
  {
   "cell_type": "code",
   "execution_count": 3,
   "metadata": {
    "collapsed": false
   },
   "outputs": [
    {
     "name": "stdout",
     "output_type": "stream",
     "text": [
      "Epoch 0: 180.78787843883038\n",
      "Epoch 1: 19.51405463460833\n",
      "Epoch 2: 19.019673123024404\n",
      "Epoch 3: 18.55915463063866\n",
      "Epoch 4: 18.130264250095934\n",
      "Epoch 5: 17.73079610662535\n",
      "Epoch 6: 17.358743955526734\n",
      "Epoch 7: 17.012191938469186\n",
      "Epoch 8: 16.68944007786922\n",
      "Epoch 9: 16.388848135713488\n",
      "Epoch 10: 16.108919837512076\n",
      "Epoch 11: 15.848211880773306\n",
      "Epoch 12: 15.605369564145803\n",
      "Epoch 13: 15.379253651946783\n",
      "Epoch 14: 15.168646726757288\n",
      "Epoch 15: 14.972509441897273\n",
      "Epoch 16: 14.789853818714619\n",
      "Epoch 17: 14.619794154539704\n",
      "Epoch 18: 14.461368504911661\n",
      "Epoch 19: 14.313879705965519\n"
     ]
    },
    {
     "data": {
      "text/plain": [
       "['checkpoint',\n",
       " 'dataAll.ckpt.data-00000-of-00001',\n",
       " 'dataAll.ckpt.index',\n",
       " 'dataAll.ckpt.meta']"
      ]
     },
     "execution_count": 3,
     "metadata": {},
     "output_type": "execute_result"
    }
   ],
   "source": [
    "# Run session\n",
    "with tf.Session() as sess:\n",
    "    sess.run(init)\n",
    "    for i in range(20):\n",
    "        total_loss = 0\n",
    "        for x_curr, y_curr in zip(x_data, y_data):\n",
    "            _, l = sess.run([optimizer, loss], feed_dict={x: x_curr, y: y_curr})\n",
    "            total_loss += l\n",
    "        print(\"Epoch {0}: {1}\".format(i, total_loss))\n",
    "    saver.save(sess, './result/dataAll.ckpt')\n",
    "\n",
    "# List saved files\n",
    "os.listdir('result')"
   ]
  },
  {
   "cell_type": "code",
   "execution_count": 4,
   "metadata": {
    "collapsed": false
   },
   "outputs": [
    {
     "name": "stdout",
     "output_type": "stream",
     "text": [
      "x = Tensor(\"x_data:0\", shape=(), dtype=float32)\n",
      "y = Tensor(\"y_data:0\", shape=(), dtype=float32)\n",
      "name: \"GradientDescent\"\n",
      "op: \"NoOp\"\n",
      "input: \"^GradientDescent/update_Weight/ApplyGradientDescent\"\n",
      "input: \"^GradientDescent/update_Bias/ApplyGradientDescent\"\n",
      "\n",
      "Tensor(\"Weight/read:0\", shape=(), dtype=float32)\n",
      "Tensor(\"Bias/read:0\", shape=(), dtype=float32)\n",
      "Tensor(\"Weight/read:0\", shape=(), dtype=float32)\n",
      "Tensor(\"Bias/read:0\", shape=(), dtype=float32)\n",
      "Tensor(\"Weight/read:0\", shape=(), dtype=float32)\n",
      "Tensor(\"Bias/read:0\", shape=(), dtype=float32)\n",
      "Tensor(\"Weight/read:0\", shape=(), dtype=float32)\n",
      "Tensor(\"Bias/read:0\", shape=(), dtype=float32)\n",
      "name: \"GradientDescent\"\n",
      "op: \"NoOp\"\n",
      "input: \"^GradientDescent/update_Weight/ApplyGradientDescent\"\n",
      "input: \"^GradientDescent/update_Bias/ApplyGradientDescent\"\n",
      "\n",
      "name: \"GradientDescent\"\n",
      "op: \"NoOp\"\n",
      "input: \"^GradientDescent/update_Weight/ApplyGradientDescent\"\n",
      "input: \"^GradientDescent/update_Bias/ApplyGradientDescent\"\n",
      "\n"
     ]
    }
   ],
   "source": [
    "# Restore saved data\n",
    "new_saver = tf.train.import_meta_graph('./result/dataAll.ckpt.meta') # load meta graph\n",
    "graph = tf.get_default_graph()\n",
    "\n",
    "# Restore variables/operations\n",
    "x_restore = graph.get_tensor_by_name('x_data:0'); print('x =', x_restore)\n",
    "y_restore = graph.get_tensor_by_name('y_data:0'); print('y =', y_restore)\n",
    "optimizer_restore = graph.get_operation_by_name('GradientDescent'); print(optimizer_restore)\n",
    "\n",
    "# Restore weight/bias (they must be restored within tf.Session)\n",
    "with tf.Session() as sess:\n",
    "    sess.run(init)\n",
    "    new_saver.restore(sess, './result/dataAll.ckpt')\n",
    "    \n",
    "    # Print all stored items\n",
    "    for key in graph.get_all_collection_keys():\n",
    "        for var in graph.get_collection(key):\n",
    "            print(var)\n"
   ]
  }
 ],
 "metadata": {
  "kernelspec": {
   "display_name": "Python 3",
   "language": "python",
   "name": "python3"
  },
  "language_info": {
   "codemirror_mode": {
    "name": "ipython",
    "version": 3
   },
   "file_extension": ".py",
   "mimetype": "text/x-python",
   "name": "python",
   "nbconvert_exporter": "python",
   "pygments_lexer": "ipython3",
   "version": "3.5.2"
  }
 },
 "nbformat": 4,
 "nbformat_minor": 2
}
