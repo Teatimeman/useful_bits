{
 "cells": [
  {
   "cell_type": "markdown",
   "metadata": {},
   "source": [
    "# Threading\n",
    "\n",
    "2018-01-07\n",
    "<br>\n",
    "\n",
    "## Basics\n",
    "\n",
    "- A thread is the smallest unit that computer can schedule to run.\n",
    "- One process can contain multiple threads.\n",
    "    - These threads share the memory and the state of the process.\n",
    "        i.e. variables and commands are shared.\n",
    "    - Threads are run by scheduling or time slicing in a single processor machine.\n",
    "- Why threading?\n",
    "    - A computer with multiple CPUs can run programs faster \n",
    "    - Given a process, threads share the memory of global variables; change in variable reflects for all threads. Threads can have a local variable.\n",
    "    \n",
    "<img src=\"https://www.python-course.eu/images/threads_400.png\">    \n",
    "        \n",
    "\n",
    "## Notes\n",
    "\n",
    "- For Python 3, use `threading`. `_thread` is also compatible.\n",
    "    - `threading` treats a thread as an object (OOP).\n",
    "    - `_thread` treats a thread as a function.\n",
    "\n",
    "- ref:\n",
    "    - https://www.python-course.eu/threads.php\n",
    "    - https://pymotw.com/2/threading/"
   ]
  },
  {
   "cell_type": "code",
   "execution_count": 1,
   "metadata": {},
   "outputs": [],
   "source": [
    "import threading\n",
    "from _thread import start_new_thread, allocate_lock\n",
    "import logging\n",
    "import time\n",
    "import numpy as np"
   ]
  },
  {
   "cell_type": "markdown",
   "metadata": {},
   "source": [
    "## Example 1: run multiple threads"
   ]
  },
  {
   "cell_type": "code",
   "execution_count": 2,
   "metadata": {},
   "outputs": [
    {
     "name": "stdout",
     "output_type": "stream",
     "text": [
      "firstWorker secondWorkerthirdWorkerThread-4--begin   \n",
      "--BEGIN--begin--BEGIN\n",
      "\n",
      "\n",
      "secondWorkerThread-4  --END--END\n",
      "\n",
      "firstWorker --end\n",
      "thirdWorker --end\n"
     ]
    }
   ],
   "source": [
    "def worker1():\n",
    "    print(threading.currentThread().getName(), '--begin')\n",
    "    time.sleep(3)\n",
    "    print(threading.currentThread().getName(), '--end')\n",
    "    \n",
    "def worker2():\n",
    "    print(threading.currentThread().getName(), '--BEGIN')\n",
    "    time.sleep(2)\n",
    "    print(threading.currentThread().getName(), '--END')\n",
    "    \n",
    "w1 = threading.Thread(name='firstWorker', target=worker1)\n",
    "w2 = threading.Thread(name='secondWorker', target=worker2)\n",
    "w3 = threading.Thread(name='thirdWorker', target=worker1)\n",
    "w4 = threading.Thread(target=worker2)\n",
    "\n",
    "w1.start()\n",
    "w2.start()\n",
    "w3.start()\n",
    "w4.start()\n",
    "\n",
    "# threads run asynchronously and look messy in the results.\n",
    "# So, logging module can help tracking threads."
   ]
  },
  {
   "cell_type": "markdown",
   "metadata": {},
   "source": [
    "## Example 2: use logging for tracking threads"
   ]
  },
  {
   "cell_type": "code",
   "execution_count": 3,
   "metadata": {},
   "outputs": [
    {
     "name": "stderr",
     "output_type": "stream",
     "text": [
      "[DEBUG] (firstWorker) --begin\n",
      "[DEBUG] (secondWorker) --BEGIN\n",
      "[DEBUG] (thirdWorker) --begin\n",
      "[DEBUG] (Thread-5  ) --BEGIN\n",
      "[DEBUG] (secondWorker) --END\n",
      "[DEBUG] (Thread-5  ) --END\n",
      "[DEBUG] (firstWorker) --end\n",
      "[DEBUG] (thirdWorker) --end\n"
     ]
    }
   ],
   "source": [
    "logging.basicConfig(level=logging.DEBUG,\n",
    "                   format='[%(levelname)s] (%(threadName)-10s) %(message)s')\n",
    "\n",
    "def worker1():\n",
    "    logging.debug('--begin') # <-- use logging instead of print function!\n",
    "    time.sleep(3)\n",
    "    logging.debug('--end')\n",
    "    \n",
    "def worker2():\n",
    "    logging.debug('--BEGIN')\n",
    "    time.sleep(2)\n",
    "    logging.debug('--END')\n",
    "    \n",
    "w1 = threading.Thread(name='firstWorker', target=worker1)\n",
    "w2 = threading.Thread(name='secondWorker', target=worker2)\n",
    "w3 = threading.Thread(name='thirdWorker', target=worker1)\n",
    "w4 = threading.Thread(target=worker2)\n",
    "\n",
    "w1.start()\n",
    "w2.start()\n",
    "w3.start()\n",
    "w4.start()"
   ]
  },
  {
   "cell_type": "markdown",
   "metadata": {},
   "source": [
    "## Example 3: threads without locking"
   ]
  },
  {
   "cell_type": "code",
   "execution_count": 4,
   "metadata": {},
   "outputs": [
    {
     "name": "stdout",
     "output_type": "stream",
     "text": [
      "num_threads is 0\n",
      "2310\n",
      "\n",
      "\n",
      "\n"
     ]
    }
   ],
   "source": [
    "num_threads = 0\n",
    "def elephant(a):\n",
    "    global num_threads\n",
    "    num_threads += 1\n",
    "    time.sleep(0.1)\n",
    "    num_threads -= 1\n",
    "    print(num_threads)\n",
    "\n",
    "start_new_thread(elephant,(99,))\n",
    "start_new_thread(elephant,(999,))\n",
    "start_new_thread(elephant,(1733,))\n",
    "start_new_thread(elephant,(17334,))\n",
    "\n",
    "if num_threads == 0:\n",
    "    print('num_threads is 0')\n",
    "else:\n",
    "    print('num_threads is not 0')\n",
    "\n",
    "# The output is strange and it also changes every time you run.\n",
    "# That's because the global variable num_threads are accessed and changed simultaneously!\n",
    "# Using locking method can help salvage this situation."
   ]
  },
  {
   "cell_type": "markdown",
   "metadata": {},
   "source": [
    "## Example 4: threads with locking"
   ]
  },
  {
   "cell_type": "code",
   "execution_count": 5,
   "metadata": {},
   "outputs": [
    {
     "name": "stdout",
     "output_type": "stream",
     "text": [
      "num_threads is 0\n",
      "0\n",
      "0\n",
      "0\n",
      "0\n"
     ]
    }
   ],
   "source": [
    "num_threads = 0\n",
    "lock = allocate_lock() # make a lock object\n",
    "def elephant(a):\n",
    "    global num_threads\n",
    "    lock.acquire() # start locking\n",
    "    num_threads += 1 \n",
    "    time.sleep(0.1)\n",
    "    num_threads -= 1\n",
    "    lock.release() # releasing locking\n",
    "    print(num_threads)\n",
    "\n",
    "start_new_thread(elephant,(99,))\n",
    "start_new_thread(elephant,(999,))\n",
    "start_new_thread(elephant,(1733,))\n",
    "start_new_thread(elephant,(17334,))\n",
    "\n",
    "if num_threads == 0:\n",
    "    print('num_threads is 0')\n",
    "else:\n",
    "    print('num_threads is not 0')"
   ]
  },
  {
   "cell_type": "markdown",
   "metadata": {},
   "source": [
    "## Example 5: daemon vs. non-daemon threads"
   ]
  },
  {
   "cell_type": "code",
   "execution_count": 6,
   "metadata": {},
   "outputs": [
    {
     "name": "stderr",
     "output_type": "stream",
     "text": [
      "[DEBUG] (Daemon    ) Start\n",
      "[DEBUG] (Non-daemon) Start\n",
      "[DEBUG] (Non-daemon) Done\n",
      "[DEBUG] (Daemon    ) Done\n"
     ]
    }
   ],
   "source": [
    "# Daemon threads die when the main program dies.\n",
    "# Non-daemon threads do not die until the work is done.\n",
    "# NB. Default is non-daemon mode.\n",
    "\n",
    "logging.basicConfig(level=logging.DEBUG,\n",
    "                    format='(%(threadName)-10s) %(message)s')\n",
    "\n",
    "def daemon():\n",
    "    logging.debug('Start')\n",
    "    time.sleep(3)\n",
    "    logging.debug('Done')\n",
    "    \n",
    "d = threading.Thread(name='Daemon', target=daemon)\n",
    "d.setDaemon(True)\n",
    "\n",
    "def non_daemon():\n",
    "    logging.debug('Start')\n",
    "    logging.debug('Done')\n",
    "\n",
    "t = threading.Thread(name='Non-daemon', target=non_daemon)\n",
    "\n",
    "d.start()\n",
    "t.start()\n",
    "\n",
    "# It's supposed not to show the last line \"[DEBUG] (Daemon    ) Done\"\n",
    "# But, Jupyter Notebook seemingly runs each cell as a program.\n",
    "# If you run in the command line as \n",
    "#   $ python test.py\n",
    "# it will throw logs:\n",
    "#    [DEBUG] (Daemon    ) Start\n",
    "#    [DEBUG] (Non-daemon) Start\n",
    "#    [DEBUG] (Non-daemon) Done\n",
    "#\n",
    "# This program exits before the daemon thread finishes.\n",
    "#\n",
    "# Adding below lines will make the program waits until daemon threads finish.\n",
    "#\n",
    "# d.join()\n",
    "# t.join()"
   ]
  },
  {
   "cell_type": "markdown",
   "metadata": {},
   "source": [
    "## Example 6: subclassing thread (simple)"
   ]
  },
  {
   "cell_type": "code",
   "execution_count": 7,
   "metadata": {},
   "outputs": [
    {
     "name": "stderr",
     "output_type": "stream",
     "text": [
      "[DEBUG] (Thread-6  ) Running now...\n",
      "[DEBUG] (Thread-7  ) Running now...\n",
      "[DEBUG] (Thread-8  ) Running now...\n",
      "[DEBUG] (Thread-9  ) Running now...\n"
     ]
    }
   ],
   "source": [
    "logging.basicConfig(level=logging.DEBUG,\n",
    "                    format='(%(threadName)-10s) %(message)s')\n",
    "\n",
    "class SimpleThread(threading.Thread):\n",
    "    def run(self):\n",
    "        logging.debug('Running now...')\n",
    "        return\n",
    "    \n",
    "for i in range(4):\n",
    "    t = SimpleThread()\n",
    "    t.start()    "
   ]
  },
  {
   "cell_type": "markdown",
   "metadata": {},
   "source": [
    "## Example 7: subclassing thread (complex)"
   ]
  },
  {
   "cell_type": "code",
   "execution_count": 11,
   "metadata": {},
   "outputs": [
    {
     "name": "stderr",
     "output_type": "stream",
     "text": [
      "[DEBUG] (Thread-10 ) My args=(0,), My kwargs={'하나': 1, '둘': 2}\n",
      "[DEBUG] (Thread-11 ) My args=(1,), My kwargs={'하나': 1, '둘': 2}\n",
      "[DEBUG] (Thread-12 ) My args=(2,), My kwargs={'하나': 1, '둘': 2}\n",
      "[DEBUG] (Thread-13 ) My args=(3,), My kwargs={'하나': 1, '둘': 2}\n",
      "[DEBUG] (Thread-14 ) My args=(4,), My kwargs={'하나': 1, '둘': 2}\n",
      "[DEBUG] (Thread-15 ) My args=(5,), My kwargs={'하나': 1, '둘': 2}\n"
     ]
    }
   ],
   "source": [
    "# If you want to customize threads, \n",
    "# make instance attributes so that they can be seen.\n",
    "\n",
    "logging.basicConfig(level=logging.DEBUG,\n",
    "                    format='(%(threadName)-10s) %(message)s')\n",
    "\n",
    "class AwesomeThreads(threading.Thread):\n",
    "    def __init__(self, group=None, target=None, name=None,\n",
    "                args=(), kwargs=None, daemon=None):\n",
    "        # This redefining let you control threads and save values\n",
    "        threading.Thread.__init__(self, group=group, target=target, \n",
    "                                  name=name, daemon=daemon)\n",
    "        self.args = args\n",
    "        self.kwargs = kwargs\n",
    "        return\n",
    "        \n",
    "    def run(self):\n",
    "        logging.debug('My args={}, My kwargs={}'.format(self.args, self.kwargs))\n",
    "        return\n",
    "\n",
    "for i in range(6):\n",
    "    t = AwesomeThreads(args=(i,), kwargs={'하나':1, '둘':2})\n",
    "    t.start()"
   ]
  },
  {
   "cell_type": "markdown",
   "metadata": {},
   "source": [
    "### Next step will be to understand TensorFlow threading\n",
    "\n",
    "- ref:\n",
    "    http://adventuresinmachinelearning.com/introduction-tensorflow-queuing/"
   ]
  }
 ],
 "metadata": {
  "kernelspec": {
   "display_name": "Python 3",
   "language": "python",
   "name": "python3"
  },
  "language_info": {
   "codemirror_mode": {
    "name": "ipython",
    "version": 3
   },
   "file_extension": ".py",
   "mimetype": "text/x-python",
   "name": "python",
   "nbconvert_exporter": "python",
   "pygments_lexer": "ipython3",
   "version": "3.6.3"
  }
 },
 "nbformat": 4,
 "nbformat_minor": 2
}
